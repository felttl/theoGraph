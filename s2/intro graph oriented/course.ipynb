{
 "cells": [
  {
   "cell_type": "markdown",
   "metadata": {},
   "source": [
    "# cours"
   ]
  },
  {
   "cell_type": "markdown",
   "metadata": {},
   "source": [
    "## ré-importation (classes)"
   ]
  },
  {
   "cell_type": "markdown",
   "metadata": {},
   "source": [
    "## formulas/formules"
   ]
  },
  {
   "cell_type": "markdown",
   "metadata": {},
   "source": [
    "$$\n",
    "init \\left\\{\n",
    "\\begin{array}{l}\n",
    "P_1(1,1) = 0 \\\\\n",
    "P_1(1,2) = P_{12} = 4 \\\\\n",
    "P_1(1,3) = P_{13} = 6 \\\\\n",
    "P_1(1,4) = P_1(1,5) = P_1(1,6) = \\inf\n",
    "\\end{array}\n",
    "\\right.\n",
    "$$"
   ]
  },
  {
   "cell_type": "markdown",
   "metadata": {},
   "source": [
    "$$\n",
    "P_2(1,2)=min(P_1(1,2), \\underset{=P_1(1,1)+P_{12}}{\\underset{j\\in{\\{1,3\\}}}{\\underbrace{min}}}(P_1(1,3)+P_{32})) = min(4,6+9) = 4\n",
    "$$\n",
    "\n",
    "$$\n",
    "P_2(1,3)=min(P_1(1,3), \\underset{j\\in{\\{1,4\\}}}{\\underbrace{min}}(P_1(1,4)+P_{43})) = min(6,\\inf+1) = 6\n",
    "$$"
   ]
  },
  {
   "cell_type": "markdown",
   "metadata": {},
   "source": [
    "$A =$ Ensemble des arcs\n",
    "\n",
    "$P_k(1,i)$=longueur minimale du chemin depuis le sommet 1 jusq'au sommet i en passant par au plus k arcs.\n",
    "\n",
    "$$\n",
    "\\begin{array}{l}\n",
    "init\\ k=1 \\\\\n",
    "P_1(1,i)= \\end{array}\\left\\{\n",
    "\\begin{array}{l}\n",
    "P_{1i} (poids de l'arc (1,i), \\\\\n",
    "si \\in Predecesseur(i) (ou (1,i) \\in A)) \\\\\n",
    "\\end{array}\n",
    "\\right.\n",
    "$$\n",
    "\n",
    "$$\n",
    "k = 2 \\\\\n",
    "P_2(1,2) = min(\\underset{=4}{P_1(1,2)})\n",
    "$$\n"
   ]
  },
  {
   "cell_type": "markdown",
   "metadata": {},
   "source": []
  },
  {
   "cell_type": "markdown",
   "metadata": {},
   "source": [
    "## Algorithme de Bellman ($O(n^2)$)"
   ]
  },
  {
   "cell_type": "markdown",
   "metadata": {},
   "source": [
    "<!-- a -->\n",
    "### etape 1\n",
    "$P_1(1,1)=0$<br>\n",
    "$P_1(1,2)=P_{12}=4$<br>\n",
    "$P_1(1,3)=P_{13}=6$<br>\n",
    "$P_1(1,4)=P_1(1,5)=P_1{(1,6)}=\\inf$<br><br>\n",
    "### etape 2\n",
    "$h=2$<br>\n",
    "$P_2(1,1) = 0$<br>\n",
    "$P_2(1,2)=min(\n",
    "    \\underset{=4}{P_1(1,3)}, \\underset{pred(2)=\\{1,3\\}}{\\underbrace{min}}(\n",
    "    \\underset{=4}{\\underbrace{\\underset{\\underset{=0}{}}{P_1(1,1)+\\underset{=4}{P_{12}}}}})) = min(6,\\inf+1\n",
    ") = 6 $<br>\n",
    "### etape 3\n",
    "$P_3(1,1)=0$<br>\n",
    "$P_3(1,2)=min(\n",
    "    4, \\underset{\n",
    "            pred(2)=\\{1,3\\}\n",
    "        }{\n",
    "            \\underbrace{min(\\ \\ \\ \\ \\ \\ \\ \\ \\ \\ \\ \\ \\ \\ )}\n",
    "        }\n",
    ") = 4 $<br>\n",
    "$P_3(1,3)=min(\n",
    "    6, \\underset{\n",
    "        \\underbrace{pred(3)=\\{1,4\\}}\n",
    "    }{\n",
    "        min(6,P_2(1,4)+P_{43})\n",
    "    }\n",
    ") = min(6, 6,7+1) = 6$<br><br>\n",
    "$P_3(1,4)=min(7,\\underset{pred(4)=\\{2\\}}{\\underbrace{min}}(P_2(1,2)+P_{14}))$<br>\n",
    "### etape 4\n",
    "\n",
    "a écrire"
   ]
  },
  {
   "cell_type": "markdown",
   "metadata": {},
   "source": [
    "## Algorithme de Floyd-Warshall ($O(|n|^3)$)"
   ]
  },
  {
   "cell_type": "markdown",
   "metadata": {},
   "source": [
    "<hr>\n",
    "\n",
    "algorithme : <br><br>\n",
    "$pour k=1,...,n$<br>\n",
    "$\\ \\ \\ \\ pour\\ i=1,...,n$<br>\n",
    "$\\ \\ \\ \\ \\ \\ \\ \\ pour\\ j=1,...,n$<br>\n",
    "$\\ \\ \\ \\ \\ \\ \\ \\ \\ \\ \\ \\ C_k(i,j)=min(C_{k-1}(i,j),C_{k-1}(i,j)+C_{k-1}(k_{ij}))$<br>\n",
    "$\\ \\ \\ \\ \\ \\ \\ \\ endp$<br>\n",
    "$\\ \\ \\ \\ endp$<br>\n",
    "$endp$<br>\n",
    "<hr>\n"
   ]
  },
  {
   "cell_type": "markdown",
   "metadata": {},
   "source": [
    "$\n",
    "L = \n",
    "    \\begin{matrix}\n",
    "    \\ \\\\ 1 \\\\ 2 \\\\ 3 \\\\ 4 \\\\ 5 \\\\ 6\n",
    "    \\end{matrix}    \n",
    "    \\begin{pmatrix}\n",
    "    1 & 2 & 3 & 4 & 5 & 6 \\\\\n",
    "    0 & 4 & 6 & \\infty & \\infty & \\infty \\\\\n",
    "    \\infty & 0 & \\infty & 3 & \\infty & \\infty \\\\\n",
    "    \\infty & 9 & 0 & \\infty & 4 & \\infty \\\\\n",
    "    \\infty & \\infty & 1 & 0 & 1 & 4 \\\\\n",
    "    \\infty & \\infty & \\infty & \\infty & 0 & 2 \\\\\n",
    "    \\infty & \\infty & \\infty & \\infty & \\infty & 0\n",
    "    \\end{pmatrix}\n",
    "$\n"
   ]
  },
  {
   "cell_type": "markdown",
   "metadata": {},
   "source": [
    "solution : \n",
    "```\n",
    "M =[\n",
    "    [0,4,6,inf,inf,inf]\n",
    "    [0,4,6,7,10,inf],\n",
    "    [0,4,6,7,8,11],\n",
    "    [0,4,6,7,8,10],\n",
    "    [0,4,6,7,8,10] <-- solution\n",
    "]\n",
    "```"
   ]
  },
  {
   "cell_type": "markdown",
   "metadata": {},
   "source": []
  }
 ],
 "metadata": {
  "language_info": {
   "name": "python"
  }
 },
 "nbformat": 4,
 "nbformat_minor": 2
}
