{
 "cells": [
  {
   "cell_type": "markdown",
   "metadata": {},
   "source": [
    "# cours"
   ]
  },
  {
   "cell_type": "markdown",
   "metadata": {},
   "source": [
    "## ré-importation (classes)"
   ]
  },
  {
   "cell_type": "markdown",
   "metadata": {},
   "source": [
    "## formulas/formules"
   ]
  },
  {
   "cell_type": "markdown",
   "metadata": {},
   "source": [
    "$$\n",
    "init \\left\\{\n",
    "\\begin{array}{l}\n",
    "P_1(1,1) = 0 \\\\\n",
    "P_1(1,2) = P_{12} = 4 \\\\\n",
    "P_1(1,3) = P_{13} = 6 \\\\\n",
    "P_1(1,4) = P_1(1,5) = P_1(1,6) = \\inf\n",
    "\\end{array}\n",
    "\\right.\n",
    "$$"
   ]
  },
  {
   "cell_type": "markdown",
   "metadata": {},
   "source": [
    "$$\n",
    "P_2(1,2)=min(P_1(1,2), \\underset{=P_1(1,1)+P_{12}}{\\underset{j\\in{\\{1,3\\}}}{\\underbrace{min}}}(P_1(1,3)+P_{32})) = min(4,6+9) = 4\n",
    "$$\n",
    "\n",
    "$$\n",
    "P_2(1,3)=min(P_1(1,3), \\underset{j\\in{\\{1,4\\}}}{\\underbrace{min}}(P_1(1,4)+P_{43})) = min(6,\\inf+1) = 6\n",
    "$$"
   ]
  },
  {
   "cell_type": "markdown",
   "metadata": {},
   "source": [
    "$A =$ Ensemble des arcs\n",
    "\n",
    "$P_k(1,i)$=longueur minimale du chemin depuis le sommet 1 jusq'au sommet i en passant par au plus k arcs.\n",
    "\n",
    "$$\n",
    "\\begin{array}{l}\n",
    "init\\ k=1 \\\\\n",
    "P_1(1,i)= \\end{array}\\left\\{\n",
    "\\begin{array}{l}\n",
    "P_{1i} (poids de l'arc (1,i), \\\\\n",
    "si \\in Predecesseur(i) (ou (1,i) \\in A)) \\\\\n",
    "\\end{array}\n",
    "\\right.\n",
    "$$\n",
    "\n",
    "$$\n",
    "k = 2 \\\\\n",
    "P_2(1,2) = min(\\underset{=4}{P_1(1,2)})\n",
    "$$\n"
   ]
  },
  {
   "cell_type": "markdown",
   "metadata": {},
   "source": []
  },
  {
   "cell_type": "markdown",
   "metadata": {},
   "source": [
    "## Algorithme de Bellman ($O(n^2)$)"
   ]
  },
  {
   "cell_type": "markdown",
   "metadata": {},
   "source": [
    "<!-- a -->\n",
    "### etape 1\n",
    "$P_1(1,1)=0$<br>\n",
    "$P_1(1,2)=P_{12}=4$<br>\n",
    "$P_1(1,3)=P_{13}=6$<br>\n",
    "$P_1(1,4)=P_1(1,5)=P_1{(1,6)}=\\inf$<br><br>\n",
    "### etape 2\n",
    "$h=2$<br>\n",
    "$P_2(1,1) = 0$<br>\n",
    "$P_2(1,2)=min(\n",
    "    \\underset{\n",
    "        =4\n",
    "    }{\n",
    "        P_1(1,3)\n",
    "    }, \\underset{\n",
    "        pred(2)=\\{1,3\\}\n",
    "    }{\n",
    "        \\underbrace{min}\n",
    "    }(\n",
    "    \\underset{\n",
    "        =4\n",
    "    }{\n",
    "        \\underbrace{\n",
    "            \\underset{=0}{\\underbrace{P_1(1,1)}}\n",
    "            +\\underset{=4}{\\underbrace{P_{12}}}\n",
    "        }\n",
    "    })) = min(6,\\inf+1\n",
    ") = 6 $<br>\n",
    "### etape 3\n",
    "$P_3(1,1)=0$<br>\n",
    "$P_3(1,2)=min(\n",
    "    4, \\underset{\n",
    "            pred(2)=\\{1,3\\}\n",
    "        }{\n",
    "            \\underbrace{min}\n",
    "        } (\\ \\ \\ \\ \\ \\ \\ \\ \\ \\ \\ \\ \\ \\ )\n",
    ") = 4 $<br>\n",
    "$P_3(1,3)=min(\n",
    "    6, \\underset{\n",
    "        pred(3)=\\{1,4\\}\n",
    "    }{\n",
    "        \\underbrace{min}\n",
    "    } (6,P_2(1,4)+P_{43})\n",
    ") = min(6, 6,7+1) = 6$<br><br>\n",
    "$P_3(1,4)=min(7,\\underset{pred(4)=\\{2\\}}{\\underbrace{min}}(P_2(1,2)+P_{14}))$<br>\n",
    "### etape 4\n",
    "\n",
    "a écrire"
   ]
  },
  {
   "cell_type": "markdown",
   "metadata": {},
   "source": [
    "## Algorithme de Floyd-Warshall ($O(|n|^3)$)"
   ]
  },
  {
   "cell_type": "markdown",
   "metadata": {},
   "source": [
    "\n",
    "algorithme : <br><br>\n",
    "$pour\\ k=1,...,n$<br>\n",
    "$\\ \\ \\ \\ pour\\ i=1,...,n$<br>\n",
    "$\\ \\ \\ \\ \\ \\ \\ \\ pour\\ j=1,...,n$<br>\n",
    "$\\ \\ \\ \\ \\ \\ \\ \\ \\ \\ \\ \\ C_k(i,j)=min(C_{k-1}(i,j),C_{k-1}(i,j)+C_{k-1}(k_{ij}))$<br>\n",
    "$\\ \\ \\ \\ \\ \\ \\ \\ endp$<br>\n",
    "$\\ \\ \\ \\ endp$<br>\n",
    "$endp$<br>\n"
   ]
  },
  {
   "cell_type": "markdown",
   "metadata": {},
   "source": [
    "$\n",
    "L = \n",
    "    \\begin{matrix}\n",
    "    \\ \\\\ 1 \\\\ 2 \\\\ 3 \\\\ 4 \\\\ 5 \\\\ 6\n",
    "    \\end{matrix}  \n",
    "    \\overset{ 1 \\ \\ \\ 2 \\ \\ \\ 3 \\ \\ \\ 4 \\ \\ \\ 5 \\ \\ \\ 6}{  \n",
    "    \\begin{pmatrix}\n",
    "    0 & 4 & 6 & \\infty & \\infty & \\infty \\\\\n",
    "    \\infty & 0 & \\infty & 3 & \\infty & \\infty \\\\\n",
    "    \\infty & 9 & 0 & \\infty & 4 & \\infty \\\\\n",
    "    \\infty & \\infty & 1 & 0 & 1 & 4 \\\\\n",
    "    \\infty & \\infty & \\infty & \\infty & 0 & 2 \\\\\n",
    "    \\infty & \\infty & \\infty & \\infty & \\infty & 0\n",
    "    \\end{pmatrix}\n",
    "    }\n",
    "$\n"
   ]
  },
  {
   "cell_type": "markdown",
   "metadata": {},
   "source": [
    "solution : \n",
    "```\n",
    "M =[\n",
    "    [0,4,6,inf,inf,inf]\n",
    "    [0,4,6,7,10,inf],\n",
    "    [0,4,6,7,8,11],\n",
    "    [0,4,6,7,8,10],\n",
    "    [0,4,6,7,8,10] <-- solution\n",
    "]\n",
    "```"
   ]
  },
  {
   "cell_type": "markdown",
   "metadata": {},
   "source": [
    "exemple matriciel\n",
    "\n",
    "```\n",
    "M = [\n",
    "    [0,2,5,6,inf,inf]\n",
    "    [inf,0,1,inf,inf,7]\n",
    "    [inf,inf,0,inf,1,inf]\n",
    "    [inf,inf,inf,0,inf,6]\n",
    "    [inf,inf,inf,inf,0,1]\n",
    "    [inf,n,n,n,inf,0]\n",
    "]\n",
    "```"
   ]
  },
  {
   "cell_type": "markdown",
   "metadata": {},
   "source": [
    "minimum du calcul de la somme d'une ligne + colonne"
   ]
  },
  {
   "cell_type": "markdown",
   "metadata": {},
   "source": [
    "$\n",
    "M^0 =\n",
    "    \\begin{matrix}\n",
    "    1 \\\\ 2 \\\\ 3 \\\\ 4 \\\\ 5 \\\\ 6\n",
    "    \\end{matrix}  \n",
    "    \\begin{pmatrix}\n",
    "    0 & 2 & 5 & 6 & \\infty & \\infty \\\\\n",
    "    \\infty & 0 & 1 & \\infty & \\infty & 7 \\\\\n",
    "    \\infty & \\infty & 0 & \\infty & 1 & \\infty \\\\\n",
    "    \\infty & \\infty & \\infty & 0 & \\infty & 6 \\\\\n",
    "    \\infty & \\infty & \\infty & \\infty & 0 & 1 \\\\\n",
    "    \\infty & \\infty & \\infty & \\infty & \\infty & 0\n",
    "    \\end{pmatrix}, \\\n",
    "M^1=\n",
    "    \\begin{matrix}\n",
    "    1 \\\\ 2 \\\\ 3 \\\\ 4 \\\\ 5 \\\\ 6\n",
    "    \\end{matrix}  \n",
    "    \\begin{pmatrix}\n",
    "    0 & 4 & 6 & \\infty & \\infty & \\infty \\\\\n",
    "    \\infty & 0 & \\infty & 3 & \\infty & \\infty \\\\\n",
    "    \\infty & 9 & 0 & \\infty & 4 & \\infty \\\\\n",
    "    \\infty & \\infty & 1 & 0 & 1 & 4 \\\\\n",
    "    \\infty & \\infty & \\infty & \\infty & 0 & 2 \\\\\n",
    "    \\infty & \\infty & \\infty & \\infty & \\infty & 0\n",
    "    \\end{pmatrix}, \\\n",
    "M^2=\n",
    "    \\begin{matrix}\n",
    "    1 \\\\ 2 \\\\ 3 \\\\ 4 \\\\ 5 \\\\ 6\n",
    "    \\end{matrix}  \n",
    "    \\begin{pmatrix}\n",
    "    0 & 2 & 3 & 6 & 4 & 5 \\\\\n",
    "    \\infty & 0 & 1 & \\infty  & 2 & 3 \\\\\n",
    "    \\infty & \\infty & 0 & \\infty & 1 & 2 \\\\\n",
    "    \\infty & \\infty  & \\infty  & 0 & \\infty  & 6 \\\\\n",
    "    \\infty & \\infty & \\infty  & \\infty & 0 & 1 \\\\\n",
    "    \\infty & \\infty & \\infty & \\infty & \\infty & 0\n",
    "    \\end{pmatrix}\n",
    "$\n",
    "\n",
    "$\n",
    "M^3=\n",
    "    \\begin{matrix}\n",
    "    1 \\\\ 2 \\\\ 3 \\\\ 4 \\\\ 5 \\\\ 6\n",
    "    \\end{matrix}  \n",
    "    \\begin{pmatrix}\n",
    "    0 & 2 & 3 & 6 & 4 & 5 \\\\\n",
    "    \\infty & 0 & 1 & \\infty  & 2 & 3 \\\\\n",
    "    \\infty & \\infty & 0 & \\infty & 1 & 2 \\\\\n",
    "    \\infty & \\infty  & \\infty  & 0 & \\infty  & 6 \\\\\n",
    "    \\infty & \\infty & \\infty  & \\infty & 0 & 1 \\\\\n",
    "    \\infty & \\infty & \\infty & \\infty & \\infty & 0\n",
    "    \\end{pmatrix}\n",
    "$"
   ]
  },
  {
   "cell_type": "markdown",
   "metadata": {},
   "source": [
    "dans $M^3$, pour un élément de la colonne I a un plus courte chemin de valeur indiquée dans la matrice jusqu'a un élément de la ligne J noté dans la matrice on a $M_{IJ} =$ plus court chemin"
   ]
  },
  {
   "cell_type": "markdown",
   "metadata": {},
   "source": [
    "## Algorithme de Dijkstra"
   ]
  },
  {
   "cell_type": "markdown",
   "metadata": {},
   "source": [
    "- a chaque étapes, on détermine la distance entre le sommet 1 et un nouveau sommet, dans l'ordre croissan des distances.\n",
    "- Les longueurs/poids +\n",
    "- donne le chemin de longueur min entre deux sommets"
   ]
  },
  {
   "cell_type": "markdown",
   "metadata": {},
   "source": [
    "```\n",
    "init\n",
    "    !S={2,3,...n}\n",
    "    P*(1)=0 \n",
    "    P(i) = 1i si i pred (1), inf sinon\n",
    "\n",
    "// complemtaire S = !S (avec une barre au dessus)\n",
    "while complementaire S not None:\n",
    "    select j tel que p(j) = min(p(k)) in !S\n",
    "    !S=!S/{j}\n",
    "    p*(j)=P(j)\n",
    "    for tout i in !S cross successeur(j):\n",
    "        p(i) = min(p(i), p(j)+l[ij])\n",
    "```\n"
   ]
  },
  {
   "cell_type": "markdown",
   "metadata": {},
   "source": [
    "exemple : \n",
    "\n",
    "graphe : <br>\n",
    "\n",
    "1: 1, 3<br>\n",
    "2: 4, 6<br>\n",
    "3: 2,5,6<br>\n",
    "4:  <br>\n",
    "5: 4,2<br>\n",
    "6: 5<br>\n",
    "\n",
    "$\\bar{S}$ = {1}<br>\n",
    "$\\bar{S}=${1,2,3,4,5,6}<br>\n",
    "$P^*(1)$=0<br>\n",
    "\n",
    "P(2)=7,P(3)=1,P(4)=P(5)=P(6)=$\\infty$\n",
    "\n",
    "- j tel que P(j)=min(p(k))=min(7,1,$\\infty$,$\\infty$,$\\infty$)=1 $\\longmapsto$ j=3\n",
    "- $\\bar{S}=\\bar{S}$-{3}={2,4,5,6}\n",
    "- $P^*(3)$=1\n",
    "- $\n",
    "\\begin{array}{l}\n",
    "\\bar{S} \\cap Successseur(3)={2,5,6}\n",
    "P_1(1,i)= \\end{array}\\left\\{\n",
    "\\begin{array}{l}\n",
    "P(2)=min(\\overset{=7}{P(2)}, \\overset{=1}{P(3)}+\\overset{=5}{P_{32}}) = 6 \\\\\n",
    "P(5)=min(\\overset{=\\infty}{P(5)},P(3)+\\overset{=2}{P_{35}}) = 3 \\\\\n",
    "P(6)=min(\\overset{=\\infty}{P(6)},P(3)+\\overset{=7}{P_{36}})=8 \\\\\n",
    "\\end{array}\n",
    "\\right.\n",
    "$"
   ]
  },
  {
   "cell_type": "markdown",
   "metadata": {},
   "source": [
    "- j tel que p(j) = min(P(k)) $\\longmapsto$ j=5\n",
    "- $\\bar{S}$ = {2,4,6}, S={1,3,5}, P*(5)=3\n",
    "- $\\bar{S}\\ \\cap $ Sucesseur(5) = {4,2}\n",
    "<hr>\n",
    "\n",
    "$\\bar{S} \\neq \\varnothing: j \\longmapsto$ 2, $\\bar{4,6}$ S={1,2,3,5}<br>\n",
    "$\\bar{S}\\ \\cap$ Sucesseur(2) = {4,6}\n",
    "<hr>\n",
    "\n",
    "$\\bar{S}\\neq \\varnothing : j \\longmapsto \\bar{S} $ ={4}\n",
    "\n",
    "<hr>\n",
    "\n",
    "$\\bar{S}\\neq \\varnothing$ "
   ]
  },
  {
   "cell_type": "markdown",
   "metadata": {},
   "source": []
  }
 ],
 "metadata": {
  "language_info": {
   "name": "python"
  }
 },
 "nbformat": 4,
 "nbformat_minor": 2
}
