{
 "cells": [
  {
   "cell_type": "markdown",
   "metadata": {},
   "source": [
    "# theorie des graphs simplifié"
   ]
  },
  {
   "cell_type": "markdown",
   "metadata": {},
   "source": [
    "### render graphs"
   ]
  },
  {
   "cell_type": "code",
   "execution_count": 10,
   "metadata": {},
   "outputs": [],
   "source": [
    "# imports\n",
    "from dash import Dash, html # type: ignore\n",
    "import dash_cytoscape as cyto # type: ignore"
   ]
  },
  {
   "cell_type": "code",
   "execution_count": 11,
   "metadata": {},
   "outputs": [
    {
     "data": {
      "text/html": [
       "\n",
       "        <iframe\n",
       "            width=\"100%\"\n",
       "            height=\"650\"\n",
       "            src=\"http://127.0.0.1:8050/\"\n",
       "            frameborder=\"0\"\n",
       "            allowfullscreen\n",
       "            \n",
       "        ></iframe>\n",
       "        "
      ],
      "text/plain": [
       "<IPython.lib.display.IFrame at 0x159a57a80>"
      ]
     },
     "metadata": {},
     "output_type": "display_data"
    }
   ],
   "source": [
    "\n",
    "\n",
    "app = Dash(__name__)\n",
    "\n",
    "custom_layout = {   \n",
    "    'width': '100%', \n",
    "    'height': '500px', \n",
    "    \"border\": \"3px white solid\",\n",
    "    \"border-radius\":\"5px\",\n",
    "    \"background-color\":\"#666666\",\n",
    "    \"title\" : {\"background-color\":\"white\"}\n",
    "}\n",
    "app.layout = html.Div([\n",
    "    cyto.Cytoscape(\n",
    "        id='cytoscape',\n",
    "        elements=[\n",
    "            {'data': {'id': 'ca', 'label': 'Canada'}, \n",
    "                'style' : {\"background-color\":\"#ee4444\"}}, \n",
    "            {'data': {'id': 'on', 'label': 'Ontario'}}, \n",
    "            {'data': {'id': 'qc', 'label': 'Quebec'}},\n",
    "            {'data': {'source': 'ca', 'target': 'on'}}, \n",
    "            {'data': {'source': 'ca', 'target': 'qc'}}\n",
    "        ],\n",
    "        layout={'name': 'breadthfirst'},\n",
    "        style=custom_layout\n",
    "    )\n",
    "])\n",
    "\n",
    "app.run_server(debug=True)"
   ]
  },
  {
   "cell_type": "code",
   "execution_count": 12,
   "metadata": {},
   "outputs": [
    {
     "data": {
      "text/html": [
       "\n",
       "        <iframe\n",
       "            width=\"100%\"\n",
       "            height=\"650\"\n",
       "            src=\"http://127.0.0.1:8050/\"\n",
       "            frameborder=\"0\"\n",
       "            allowfullscreen\n",
       "            \n",
       "        ></iframe>\n",
       "        "
      ],
      "text/plain": [
       "<IPython.lib.display.IFrame at 0x159b94fc0>"
      ]
     },
     "metadata": {},
     "output_type": "display_data"
    }
   ],
   "source": [
    "'''\n",
    "Phylogeny tree inspired from: http://www.bio.miami.edu/dana/106/106F06_10.html\n",
    "'''\n",
    "from dash import Dash, html # type: ignore\n",
    "import dash_cytoscape as cyto # type: ignore\n",
    "\n",
    "app = Dash()\n",
    "\n",
    "# Creating elements\n",
    "nonterminal_nodes = [\n",
    "    {'data': {'id': name, 'label': name.capitalize()}, 'classes': 'nonterminal'}\n",
    "    for name in [\n",
    "        'animalia',\n",
    "        'eumetazoa',\n",
    "        'bilateria',\n",
    "        'deuterostomia'\n",
    "    ]\n",
    "]\n",
    "\n",
    "terminal_nodes = [\n",
    "    {\n",
    "        'classes': 'terminal',\n",
    "        'data': {\n",
    "            'id': name,\n",
    "            'label': name.capitalize(),\n",
    "            'url': 'https://upload.wikimedia.org/wikipedia/commons/thumb/' +\n",
    "                   url + '/150px-' + url.split('/')[-1]\n",
    "        }\n",
    "    }\n",
    "    for name, url in [\n",
    "        ['porifera', '4/45/Spongilla_lacustris.jpg'],\n",
    "        ['ctenophora', 'c/c8/Archaeocydippida_hunsrueckiana.JPG'],\n",
    "        ['cnidaria', 'c/c1/Polyps_of_Cnidaria_colony.jpg'],\n",
    "        ['acoela', 'a/aa/Waminoa_on_Plerogyra.jpg'],\n",
    "        ['echinodermata', '7/7a/Ochre_sea_star_on_beach%2C_Olympic_National_Park_USA.jpg'],\n",
    "        ['chordata', 'd/d6/White_cockatoo_%28Cacatua_alba%29.jpg']\n",
    "    ]\n",
    "]\n",
    "\n",
    "edges = [\n",
    "    {'data': {'source': source, 'target': target}}\n",
    "    for source, target in [\n",
    "        ['animalia', 'porifera'],\n",
    "        ['animalia', 'eumetazoa'],\n",
    "        ['eumetazoa', 'ctenophora'],\n",
    "        ['eumetazoa', 'bilateria'],\n",
    "        ['eumetazoa', 'cnidaria'],\n",
    "        ['bilateria', 'acoela'],\n",
    "        ['bilateria', 'deuterostomia'],\n",
    "        ['deuterostomia', 'echinodermata'],\n",
    "        ['deuterostomia', 'chordata']\n",
    "    ]\n",
    "]\n",
    "\n",
    "# Creating styles\n",
    "stylesheet = [\n",
    "    {\n",
    "        'selector': 'node',\n",
    "        'style': {\n",
    "            'content': 'data(label)'\n",
    "        }\n",
    "    },\n",
    "    {\n",
    "        'selector': '.terminal',\n",
    "        'style': {\n",
    "            'width': 90,\n",
    "            'height': 80,\n",
    "            'background-fit': 'cover',\n",
    "            'background-image': 'data(url)'\n",
    "        }\n",
    "    },\n",
    "    {\n",
    "        'selector': '.nonterminal',\n",
    "        'style': {\n",
    "            'shape': 'rectangle'\n",
    "        }\n",
    "    }\n",
    "]\n",
    "\n",
    "# Declare app layout\n",
    "app.layout = html.Div([\n",
    "    cyto.Cytoscape(\n",
    "        id='cytoscape-images',\n",
    "        layout={'name': 'breadthfirst', 'roots': ['animalia']},\n",
    "        style={'width': '100%', 'height': '550px'},\n",
    "        stylesheet=stylesheet,\n",
    "        elements=terminal_nodes + nonterminal_nodes + edges\n",
    "    )\n",
    "])\n",
    "\n",
    "\n",
    "app.run(debug=True)\n"
   ]
  },
  {
   "cell_type": "code",
   "execution_count": null,
   "metadata": {},
   "outputs": [],
   "source": []
  }
 ],
 "metadata": {
  "kernelspec": {
   "display_name": "Python 3",
   "language": "python",
   "name": "python3"
  },
  "language_info": {
   "codemirror_mode": {
    "name": "ipython",
    "version": 3
   },
   "file_extension": ".py",
   "mimetype": "text/x-python",
   "name": "python",
   "nbconvert_exporter": "python",
   "pygments_lexer": "ipython3",
   "version": "3.13.1"
  }
 },
 "nbformat": 4,
 "nbformat_minor": 2
}
