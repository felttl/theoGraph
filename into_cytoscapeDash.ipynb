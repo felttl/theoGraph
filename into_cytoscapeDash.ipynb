{
 "cells": [
  {
   "cell_type": "markdown",
   "metadata": {},
   "source": [
    "# theorie des graphs simplifié"
   ]
  },
  {
   "cell_type": "markdown",
   "metadata": {},
   "source": [
    "### render graphs"
   ]
  },
  {
   "cell_type": "code",
   "execution_count": 1,
   "metadata": {},
   "outputs": [],
   "source": [
    "# imports\n",
    "import dash # type: ignore\n",
    "from dash import Dash, html, dcc # type: ignore\n",
    "import dash_cytoscape as cyto # type: ignore\n",
    "from dash.dependencies import Input, Output # type: ignore\n",
    "import random\n",
    "from time import time"
   ]
  },
  {
   "cell_type": "code",
   "execution_count": null,
   "metadata": {},
   "outputs": [],
   "source": [
    "\n",
    "\n",
    "app = Dash(__name__)\n",
    "\n",
    "custom_layout = {   \n",
    "    'width': '100%', \n",
    "    'height': '500px', \n",
    "    \"border\": \"3px white solid\",\n",
    "    \"border-radius\":\"5px\",\n",
    "    \"background-color\":\"#666666\",\n",
    "    \"title\" : {\"background-color\":\"white\"}\n",
    "}\n",
    "app.layout = html.Div([\n",
    "    cyto.Cytoscape(\n",
    "        id='cytoscape1',\n",
    "        elements=[\n",
    "            {'data': {'id': 'ca', 'label': 'Canada'}, \n",
    "                'style' : {\"background-color\":\"#ee4444\"}}, \n",
    "            {'data': {'id': 'on', 'label': 'Ontario'}}, \n",
    "            {'data': {'id': 'qc', 'label': 'Quebec'}},\n",
    "            {'data': {'source': 'ca', 'target': 'on'}}, \n",
    "            {'data': {'source': 'ca', 'target': 'qc'}},\n",
    "            {'data': {'source': 'ca', 'target': 'on'},\n",
    "             'style': {'line-color': '#44ee44', 'width': 3, 'target-arrow-color': 'red'}}, \n",
    "\n",
    "        ],\n",
    "        layout={'name': 'breadthfirst'},\n",
    "        style=custom_layout\n",
    "    )\n",
    "])\n",
    "\n",
    "app.run_server(debug=True)"
   ]
  },
  {
   "cell_type": "code",
   "execution_count": 34,
   "metadata": {},
   "outputs": [
    {
     "data": {
      "text/html": [
       "\n",
       "        <iframe\n",
       "            width=\"100%\"\n",
       "            height=\"650\"\n",
       "            src=\"http://127.0.0.1:8050/\"\n",
       "            frameborder=\"0\"\n",
       "            allowfullscreen\n",
       "            \n",
       "        ></iframe>\n",
       "        "
      ],
      "text/plain": [
       "<IPython.lib.display.IFrame at 0x10c2154d0>"
      ]
     },
     "metadata": {},
     "output_type": "display_data"
    }
   ],
   "source": [
    "'''\n",
    "Phylogeny tree inspired from: http://www.bio.miami.edu/dana/106/106F06_10.html\n",
    "'''\n",
    "from dash import Dash, html # type: ignore\n",
    "import dash_cytoscape as cyto # type: ignore\n",
    "\n",
    "app = Dash()\n",
    "\n",
    "# Creating elements\n",
    "nonterminal_nodes = [\n",
    "    {'data': {'id': name, 'label': name.capitalize()}, 'classes': 'nonterminal'}\n",
    "    for name in [\n",
    "        'animalia',\n",
    "        'eumetazoa',\n",
    "        'bilateria',\n",
    "        'deuterostomia'\n",
    "    ]\n",
    "]\n",
    "\n",
    "terminal_nodes = [\n",
    "    {\n",
    "        'classes': 'terminal',\n",
    "        'data': {\n",
    "            'id': name,\n",
    "            'label': name.capitalize(),\n",
    "            'url': 'https://upload.wikimedia.org/wikipedia/commons/thumb/' +\n",
    "                   url + '/150px-' + url.split('/')[-1]\n",
    "        }\n",
    "    }\n",
    "    for name, url in [\n",
    "        ['porifera', '4/45/Spongilla_lacustris.jpg'],\n",
    "        ['ctenophora', 'c/c8/Archaeocydippida_hunsrueckiana.JPG'],\n",
    "        ['cnidaria', 'c/c1/Polyps_of_Cnidaria_colony.jpg'],\n",
    "        ['acoela', 'a/aa/Waminoa_on_Plerogyra.jpg'],\n",
    "        ['echinodermata', '7/7a/Ochre_sea_star_on_beach%2C_Olympic_National_Park_USA.jpg'],\n",
    "        ['chordata', 'd/d6/White_cockatoo_%28Cacatua_alba%29.jpg']\n",
    "    ]\n",
    "]\n",
    "\n",
    "edges = [\n",
    "    {'data': {'source': source, 'target': target}}\n",
    "    for source, target in [\n",
    "        ['animalia', 'porifera'],\n",
    "        ['animalia', 'eumetazoa'],\n",
    "        ['eumetazoa', 'ctenophora'],\n",
    "        ['eumetazoa', 'bilateria'],\n",
    "        ['eumetazoa', 'cnidaria'],\n",
    "        ['bilateria', 'acoela'],\n",
    "        ['bilateria', 'deuterostomia'],\n",
    "        ['deuterostomia', 'echinodermata'],\n",
    "        ['deuterostomia', 'chordata']\n",
    "    ]\n",
    "]\n",
    "\n",
    "# Creating styles\n",
    "stylesheet = [\n",
    "    {\n",
    "        'selector': 'node',\n",
    "        'style': {\n",
    "            'content': 'data(label)'\n",
    "        }\n",
    "    },\n",
    "    {\n",
    "        'selector': '.terminal',\n",
    "        'style': {\n",
    "            'width': 90,\n",
    "            'height': 80,\n",
    "            'background-fit': 'cover',\n",
    "            'background-image': 'data(url)'\n",
    "        }\n",
    "    },\n",
    "    {\n",
    "        'selector': '.nonterminal',\n",
    "        'style': {\n",
    "            'shape': 'rectangle'\n",
    "        }\n",
    "    }\n",
    "]\n",
    "\n",
    "# Declare app layout\n",
    "app.layout = html.Div([\n",
    "    cyto.Cytoscape(\n",
    "        id='cytoscape-images',\n",
    "        layout={'name': 'breadthfirst', 'roots': ['animalia']},\n",
    "        style={'width': '100%', 'height': '550px'},\n",
    "        stylesheet=stylesheet,\n",
    "        elements=terminal_nodes + nonterminal_nodes + edges\n",
    "    )\n",
    "])\n",
    "\n",
    "\n",
    "app.run(debug=True)\n"
   ]
  },
  {
   "cell_type": "code",
   "execution_count": 11,
   "metadata": {},
   "outputs": [
    {
     "ename": "",
     "evalue": "",
     "output_type": "error",
     "traceback": [
      "\u001b[1;31mThe Kernel crashed while executing code in the current cell or a previous cell. \n",
      "\u001b[1;31mPlease review the code in the cell(s) to identify a possible cause of the failure. \n",
      "\u001b[1;31mClick <a href='https://aka.ms/vscodeJupyterKernelCrash'>here</a> for more info. \n",
      "\u001b[1;31mView Jupyter <a href='command:jupyter.viewOutput'>log</a> for further details."
     ]
    }
   ],
   "source": [
    "import os\n",
    "os.system(\"lsof -t -i:8050 | xargs kill\")\n"
   ]
  },
  {
   "cell_type": "markdown",
   "metadata": {},
   "source": [
    "# Callback Example\n",
    "\n",
    "permettre de visualiser en temps réel un mouvement"
   ]
  },
  {
   "cell_type": "code",
   "execution_count": 10,
   "metadata": {},
   "outputs": [
    {
     "data": {
      "text/html": [
       "\n",
       "        <iframe\n",
       "            width=\"100%\"\n",
       "            height=\"650\"\n",
       "            src=\"http://127.0.0.1:8050/\"\n",
       "            frameborder=\"0\"\n",
       "            allowfullscreen\n",
       "            \n",
       "        ></iframe>\n",
       "        "
      ],
      "text/plain": [
       "<IPython.lib.display.IFrame at 0x106cc3f00>"
      ]
     },
     "metadata": {},
     "output_type": "display_data"
    },
    {
     "name": "stderr",
     "output_type": "stream",
     "text": [
      "127.0.0.1 - - [24/Dec/2024 04:54:36] code 400, message Bad request version ('G!´ÚO¾\\x15¹{æ\\x13\\x99õ\\x88\\x00*jj\\x13\\x01\\x13\\x02\\x13\\x03À,À+Ì©À0À/Ì¨À')\n",
      "127.0.0.1 - - [24/Dec/2024 04:54:36] code 400, message Bad request version ('è\\x11\\x97\\x00*úú\\x13\\x01\\x13\\x02\\x13\\x03À,À+Ì©À0À/Ì¨À')\n",
      "127.0.0.1 - - [24/Dec/2024 04:54:36] code 400, message Bad request version ('\\x9a\\x06\\x8c¡º<\\x1bph1ê\\x87\\x8bëó[è\\x19Ç\\x93ÀO\\x92Ñ\\x10f¡¯R¥g')\n",
      "127.0.0.1 - - [24/Dec/2024 04:54:36] code 400, message Bad request syntax ('\\x16\\x03\\x01\\x02\\x00\\x01\\x00\\x01ü\\x03\\x03aÓc\\x1a·_áhMÿM\\x82Ü÷S\\x12')\n",
      "127.0.0.1 - - [24/Dec/2024 04:54:36] code 400, message Bad request version ('öVF\\x9eÛ¸#\\x00*êê\\x13\\x01\\x13\\x02\\x13\\x03À,À+Ì©À0À/Ì¨À')\n",
      "127.0.0.1 - - [24/Dec/2024 04:54:36] code 400, message Bad request version ('q»hE~Èð¹øTqB·?ß\\x18á\\x94\\x00*ºº\\x13\\x01\\x13\\x02\\x13\\x03À,À+Ì©À0À/Ì¨À')\n",
      "127.0.0.1 - - [24/Dec/2024 04:54:36] code 400, message Bad request version ('\\x8e¿F\\x8b¦\\x11þW)j»z&¿i¸\\x0eÄ\\x82õ\\x81øÞ£ª.\\x19èí\\x8cÉ·\\x00*')\n",
      "127.0.0.1 - - [24/Dec/2024 04:54:36] code 400, message Bad request version ('\\x81¸:Ä6HâÍ\\x87ÌÞ²\\x9cÔ\\x0f¢]ÁµÉ\\x16Pe6¸cûØ61Fg\\x00*úú\\x13\\x01\\x13\\x02\\x13\\x03À,À+Ì©À0À/Ì¨À')\n"
     ]
    }
   ],
   "source": [
    "app = dash.Dash(__name__)\n",
    "\n",
    "# Définition des éléments du graphe (nœuds et arêtes)\n",
    "elements = [\n",
    "    # Nœuds\n",
    "    {'data': {'id': 'start', 'label': 'Start'}, 'style': {\"background-color\": \"#ff0000\"}},  # Point de départ\n",
    "    {'data': {'id': 'a', 'label': 'A'}, 'style': {\"background-color\": \"#00ff00\"}},  # Nœud A\n",
    "    {'data': {'id': 'b', 'label': 'B'}, 'style': {\"background-color\": \"#0000ff\"}},  # Nœud B\n",
    "    {'data': {'id': 'c', 'label': 'C'}, 'style': {\"background-color\": \"#ffcc00\"}},  # Nœud C\n",
    "    {'data': {'id': 'end', 'label': 'End'}, 'style': {\"background-color\": \"#9900cc\"}},  # Nœud final\n",
    "    \n",
    "    # Arêtes (edges)\n",
    "    {'data': {'source': 'start', 'target': 'a'}, 'style': {'line-color': 'gray', 'width': 3}},\n",
    "    {'data': {'source': 'a', 'target': 'b'}, 'style': {'line-color': 'gray', 'width': 3}},\n",
    "    {'data': {'source': 'b', 'target': 'c'}, 'style': {'line-color': 'gray', 'width': 3}},\n",
    "    {'data': {'source': 'c', 'target': 'end'}, 'style': {'line-color': 'gray', 'width': 3}},\n",
    "]\n",
    "\n",
    "# Mise en page\n",
    "custom_layout = {\n",
    "    'width': '100%',\n",
    "    'height': '500px',\n",
    "    \"border\": \"3px white solid\",\n",
    "    \"border-radius\": \"5px\",\n",
    "    \"background-color\": \"#666666\",\n",
    "    \"title\": {\"background-color\": \"white\"}\n",
    "}\n",
    "\n",
    "# Layout du Dash\n",
    "app.layout = html.Div([\n",
    "    cyto.Cytoscape(\n",
    "        id='cytoscape',  # L'ID ici doit correspondre à celui utilisé dans le callback\n",
    "        elements=elements,\n",
    "        layout={'name': 'breadthfirst'},\n",
    "        style=custom_layout\n",
    "    ),\n",
    "    dcc.Interval(\n",
    "        id='interval-component',\n",
    "        interval=1000,  # 1 seconde\n",
    "        n_intervals=0\n",
    "    )\n",
    "])\n",
    "\n",
    "# Callback pour animer le chemin du véhicule\n",
    "@app.callback(\n",
    "    Output('cytoscape', 'elements'),  # Utilise 'cytoscape' comme ID\n",
    "    Input('interval-component', 'n_intervals')\n",
    ")\n",
    "def update_path(n_intervals):\n",
    "    # Dupliquer les éléments existants pour éviter de modifier directement l'original\n",
    "    new_elements = elements[:]\n",
    "    \n",
    "    # Chemin du véhicule (séquence de nœuds dans l'ordre de leur traversée)\n",
    "    path = ['start', 'a', 'b', 'c', 'end']\n",
    "    \n",
    "    # Si on dépasse la longueur du chemin, recommencer à zéro\n",
    "    max_intervals = len(path) - 1  # Nombre d'edges à parcourir\n",
    "    \n",
    "    # Calculer l'index du edge à colorier\n",
    "    current_edge = n_intervals % (max_intervals + 1)  # Pour qu'il recommence à 0 après le dernier\n",
    "    \n",
    "    # 1. Réinitialiser toutes les arêtes (les rendre gris)\n",
    "    for element in new_elements:\n",
    "        if 'line-color' in element['style']:\n",
    "            # Réinitialiser toutes les arêtes à la couleur grise\n",
    "            element['style']['line-color'] = 'gray'\n",
    "            element['style']['width'] = 3\n",
    "    \n",
    "    # 2. Colorier les arêtes parcourues en rouge\n",
    "    for i in range(current_edge + 1):  # Nous colorions les arêtes jusqu'à current_edge inclus\n",
    "        source = path[i]\n",
    "        target = path[i + 1] if i + 1 < len(path) else None\n",
    "        \n",
    "        if target is not None:\n",
    "            # Modifier la couleur des arêtes\n",
    "            for element in new_elements:\n",
    "                if element.get('data', {}).get('source') == source and element.get('data', {}).get('target') == target:\n",
    "                    # Mettre la couleur de l'arête en rouge et augmenter la largeur pour la rendre plus visible\n",
    "                    element['style']['line-color'] = 'red'\n",
    "                    element['style']['width'] = 6  # Largeur plus grande pour plus de visibilité\n",
    "    \n",
    "    return new_elements\n",
    "\n",
    "\n",
    "\n",
    "app.run_server(debug=True)\n"
   ]
  },
  {
   "cell_type": "code",
   "execution_count": null,
   "metadata": {},
   "outputs": [],
   "source": []
  },
  {
   "cell_type": "code",
   "execution_count": null,
   "metadata": {},
   "outputs": [],
   "source": []
  },
  {
   "cell_type": "code",
   "execution_count": null,
   "metadata": {},
   "outputs": [],
   "source": []
  },
  {
   "cell_type": "code",
   "execution_count": null,
   "metadata": {},
   "outputs": [],
   "source": []
  },
  {
   "cell_type": "code",
   "execution_count": null,
   "metadata": {},
   "outputs": [],
   "source": []
  },
  {
   "cell_type": "code",
   "execution_count": 9,
   "metadata": {},
   "outputs": [
    {
     "data": {
      "text/plain": [
       "(Slider(min=0, max=100, step=1, marks={0: '0', 10: '10', 20: '20', 30: '30', 40: '40', 50: '50', 60: '60', 70: '70', 80: '80', 90: '90', 100: '100'}, value=0, id='time-slider'),)"
      ]
     },
     "execution_count": 9,
     "metadata": {},
     "output_type": "execute_result"
    }
   ],
   "source": [
    "dcc.Slider(\n",
    "    id='time-slider',\n",
    "    min=0,\n",
    "    max=100,  # Nombre d'étapes (ou de temps)\n",
    "    step=1,\n",
    "    value=0,\n",
    "    marks={i: str(i) for i in range(0, 101, 10)},\n",
    "),\n"
   ]
  },
  {
   "cell_type": "code",
   "execution_count": null,
   "metadata": {},
   "outputs": [],
   "source": []
  }
 ],
 "metadata": {
  "kernelspec": {
   "display_name": "Python 3",
   "language": "python",
   "name": "python3"
  },
  "language_info": {
   "codemirror_mode": {
    "name": "ipython",
    "version": 3
   },
   "file_extension": ".py",
   "mimetype": "text/x-python",
   "name": "python",
   "nbconvert_exporter": "python",
   "pygments_lexer": "ipython3",
   "version": "3.13.1"
  }
 },
 "nbformat": 4,
 "nbformat_minor": 2
}
