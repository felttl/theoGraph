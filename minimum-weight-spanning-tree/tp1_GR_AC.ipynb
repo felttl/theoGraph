{
 "cells": [
  {
   "cell_type": "markdown",
   "metadata": {},
   "source": [
    "\n",
    "# TP 1 : Theorie des Graphes 1 \n",
    "#### L3 INFO NEC 2024–2025 <br> Université de Pau et des Pays de l’Adour\n",
    "###### date: \"2024-12-18\""
   ]
  },
  {
   "cell_type": "markdown",
   "metadata": {},
   "source": [
    "## prérequis"
   ]
  },
  {
   "cell_type": "markdown",
   "metadata": {},
   "source": [
    "### installer avec pip (sur la machine)\n",
    "\n",
    "c'est pareil avec Windows, Linux, Macos\n",
    "\n",
    "##### version de python :\n",
    "\n",
    ">si vous avez la version python ou python3 il suffit d'ajoute le 3 en fonction de votre version<br>\n",
    ">et heuresement python fonctionne avec pip et python3 fonctionne avec pip3 (normalement les versions<br>\n",
    ">actuelles installées sont pip3 avec python3, python n'est plus utilisé donc pip non plus)<br>\n",
    "\n",
    "#### installer dash_cytoscape avec 2 packages\n",
    "```sh\n",
    "pip3 install dash\n",
    "pip3 install dash-cytoscape\n",
    "```\n",
    "\n",
    "#### installer pip3 :\n",
    "\n",
    "```sh\n",
    "python3 -m ensurepip --upgrade\n",
    "```\n",
    "enlever 3 dans python3 pour les version ultérieures<br>\n",
    "si problèmes voir : https://pip.pypa.io/en/stable/installation/\n",
    "\n"
   ]
  },
  {
   "cell_type": "markdown",
   "metadata": {},
   "source": [
    "### importation dans le code"
   ]
  },
  {
   "cell_type": "code",
   "execution_count": 13,
   "metadata": {},
   "outputs": [],
   "source": [
    "# modules importants pour le(s) tp(s) :\n",
    "\n",
    "# visualisation des couleurs et autres... (partie graphique)\n",
    "from dash import Dash, html # type: ignore\n",
    "import dash_cytoscape as cyto # type: ignore\n",
    "\n",
    "# partie système\n",
    "from time import time, sleep\n",
    "import os, sys\n",
    "from random import randint\n",
    "\n",
    "# partie mathématique + structure\n",
    "import numpy as np # type: ignore\n",
    "from math import inf, sqrt, cos, sin, tan"
   ]
  },
  {
   "cell_type": "markdown",
   "metadata": {},
   "source": [
    "\n",
    "En premier, il faut définir les variables d'entrée: le graphe. <br>\n",
    "Ce graphe est donné par un vecteur des sommets, une matrice des arêtes, et un vecteur des poids. <br>\n",
    "\n",
    "Le graphe avec lequel on va tester notre code est simple: <br>\n",
    "On va avoir 6 sommets et ça c'est la liste de sommets adjacentes avec les poids : "
   ]
  },
  {
   "cell_type": "markdown",
   "metadata": {},
   "source": [
    "### on crée nos classes pour créer une structure de graphe"
   ]
  },
  {
   "cell_type": "code",
   "execution_count": 14,
   "metadata": {},
   "outputs": [],
   "source": [
    "class Vertex:\n",
    "    \"\"\"gère les sommets et ses arrêtes (sous forme d'autres sommets)\"\"\"\n",
    "\n",
    "    id = 0 # identifiant unique de tous les vertex dans les graphes\n",
    "    \n",
    "    def __init__(self, name, weight=0):\n",
    "        \"\"\"name:le nom du sommet (vertex) associé au noeud\n",
    "        weight: le poids du sommet pour aller du noeud jusq'au sommet (par défaut=0)\n",
    "        (nom du noeud non représenté ici)\"\"\"\n",
    "        self.name = name\n",
    "        self.weight = weight # du sommet du noeud jusq'a ce sommet (ici)\n",
    "        self.id = Vertex.id\n",
    "        Vertex.id += 1\n",
    "    \n",
    "    def __str__(self):\n",
    "        '''si on fait print(Vertex) le resultat du print est dans ce return'''\n",
    "        return self.name"
   ]
  },
  {
   "cell_type": "code",
   "execution_count": 15,
   "metadata": {},
   "outputs": [],
   "source": [
    "class Node:\n",
    "    \"\"\"\n",
    "    représente les noeuds entre des point dans un graphe\n",
    "    \n",
    "    on crée la classe qui s'occupe de tous les noeuds entre \n",
    "    les sommets (vertex/vertecies) et leurs autres sommets reliés\n",
    "    les arrêtes (edges) ne sont pas représentés car c'est la matrice d'adjacence qui s'occupe de ça\n",
    "    qui est situé dans la classe Graph\n",
    "    \"\"\"\n",
    "    id = 0 # identifiant unique de noeud auquel il appartient    \n",
    "\n",
    "    def __init__(self, node_vertex:Vertex, vertecies:list[Vertex]):\n",
    "        self.name = node_vertex.name\n",
    "        node_vertex.weight = 0 # le poids du sommet du noeud ne peux pas être différent de 0\n",
    "        self.weight = sum([v.weight for v in vertecies]) # poids du noeud\n",
    "        self.vertecies = vertecies\n",
    "        self.vertecies_names = [v.name for v in self.vertecies]\n",
    "        self.degree = len(vertecies)\n",
    "        self.id = Node.id\n",
    "        Node.id += 1\n",
    "\n",
    "    def __str__(self, print_weight:bool=True):\n",
    "        '''si on affiche Node (print(Node)) renverra ce qui suit'''\n",
    "        res = f\"{self.name} [\"\n",
    "        v_size = len(self.vertecies)\n",
    "        for i, e in enumerate(self.vertecies):\n",
    "            res += f\"{e.name}\"\n",
    "            if(print_weight):\n",
    "                res += f\" w={e.weight}\"\n",
    "            if(i!=v_size-1):\n",
    "                if v_size>1:\n",
    "                    res += \",\" \n",
    "                res+=\" \"\n",
    "        res+=\"]\"\n",
    "        return res\n",
    "    \n"
   ]
  },
  {
   "cell_type": "code",
   "execution_count": 16,
   "metadata": {},
   "outputs": [],
   "source": [
    "class Edge:\n",
    "    '''représente une arrête entre deux sommets/vertex/noeud'''\n",
    "\n",
    "    id = 0\n",
    "\n",
    "    def __init__(self, vfrom:str | int, vto:str | int, weight):\n",
    "        self.a = vfrom\n",
    "        self.b = vto\n",
    "        self.weight = weight\n",
    "        self.id = Edge.id\n",
    "        Edge.id += 1\n",
    "    \n",
    "    def __eq__(self, edge:object):\n",
    "        '''compare un edge a un autre objet edge'''\n",
    "        return self.id == edge.id\n",
    "    \n",
    "    def __ne__(self, edge:object):\n",
    "        return not self.__eq__(edge)"
   ]
  },
  {
   "cell_type": "code",
   "execution_count": 17,
   "metadata": {},
   "outputs": [],
   "source": [
    "\n",
    "class Graph:\n",
    "\n",
    "    def __init__(self, data:list[Node], title:str=\"default\"):\n",
    "        self.title = title # titre du graphique si utilisé\n",
    "        self.adj = data # liste d'adjacences\n",
    "        self.edges = []\n",
    "        self.nodes = [] # liste des noeuds (seulement les noms)\n",
    "        self.weight = 0 # poids total du graphe    \n",
    "        self.degree = 0 # pas encore calculé le degré du graphe\n",
    "        for vx in self.adj:\n",
    "            self.nodes.append(vx.name)\n",
    "            self.weight += vx.weight\n",
    "            for n in vx.vertecies:\n",
    "                self.edges.append(Edge(vx.name, n.name, n.weight))\n",
    "                self.degree += 1\n",
    "        self.create_matrix() # matrice des liens entre les noeuds (Edges) (matrice d'adjacences)\n",
    "\n",
    "    def create_matrix(self):\n",
    "        \"\"\"créer la matrice d'ajdacence des points\n",
    "        (fonctionne avec les graphes orienté également)\n",
    "        \"\"\"\n",
    "        self.matrix = [[False for _ in self.adj] for _ in self.adj]\n",
    "        self.is_oriented=False\n",
    "        for lin, node in enumerate(self.adj): # parcours noms des noeuds\n",
    "            for v in node.vertecies: # parcours des \"edges\"/sommets/vertex\n",
    "                self.matrix[lin][self.nodes.index(v.name)]=True\n",
    "                # si on trouve que m[i][j] != m[j][i] c'est oriente\n",
    "                if(not self.is_oriented and node.name not in self.adj[self.nodes.index(v.name)].vertecies_names):\n",
    "                    self.is_oriented=True\n",
    "\n",
    "    def __str__(self): # OK\n",
    "        \"\"\"si jamais on print un graph (print(Graph)) c'est executé ici\n",
    "        affichage au plus simple du graphe avec des caractères\"\"\"\n",
    "        res = \"\"\n",
    "        for i, node in enumerate(self.adj):\n",
    "            res += f\"{i}\\t | {node.name} [\"\n",
    "            v_size = len(node.vertecies)\n",
    "            for j in range(v_size):\n",
    "                res += f\"{node.vertecies[j].name}\"\n",
    "                if(j!=v_size-1):\n",
    "                    if v_size>1:\n",
    "                        res += \",\" \n",
    "                    res+=\" \"\n",
    "            res += \"]\\n\"\n",
    "        return res\n",
    "    \n",
    "    def _sort_edges(self, edges:list[Edge])->list[Edge]: # complexite≈O(n+log(5n))\n",
    "        \"\"\"fonction privée a ne pas utiliser (en dehors de la classe)\n",
    "        algorithme reccursif pour les problèmes de pronfondeur et de performances\"\"\"\n",
    "        if len(edges)<2 :\n",
    "            return edges\n",
    "        else:\n",
    "            pivot = edges[len(edges)//2].weight\n",
    "            l, m, r = [],[],[] # mineurs, égal, majeurs \n",
    "            for e in edges:\n",
    "                if(e.weight < pivot): l.append(e)\n",
    "                    # si reccursion sur len(m) ce n'est jamais < 2\n",
    "                    # et donc (boucle infini) dans certains cas                \n",
    "                elif(e.weight == pivot): m.append(e) \n",
    "                else: r.append(e)\n",
    "            return self._sort_edges(l)+m+self._sort_edges(r)\n",
    "\n",
    "    def sort_by_weight(self): # OK\n",
    "        \"\"\"trie le graphe par poids croissants(asc)\n",
    "        on trie chaque arrêtes du graphe\n",
    "        \"\"\"\n",
    "        self.edges = self._sort_edges(self.edges)\n",
    "\n",
    "    def show_edges(self):\n",
    "        print([e.a+e.b+\" w=\"+str(e.weight) for e in self.edges])\n",
    "    \n",
    "    def render(self, layoutname=\"breadthfirst\"):\n",
    "        \"\"\"effectue le rendu du graphe visuellement\"\"\"\n",
    "        unique = \" \"+f'{time()%1e3:.5}'\n",
    "        app = Dash(self.title+unique)\n",
    "        allow_arrows = \"linear\" # ce style n'autorise pas les flèches\n",
    "        if self.is_oriented:\n",
    "            allow_arrows = \"bezier\" # ce style oui\n",
    "        custom_layout = {\n",
    "            'width': '100%', \n",
    "            'height': '500px', \n",
    "            \"border\": \"3px white solid\",\n",
    "            \"border-radius\":\"5px\",\n",
    "            \"background-color\":\"#666666\",\n",
    "            \"title\" : {\"background-color\":\"white\"}\n",
    "        }\n",
    "        styles = [{\n",
    "                'selector': 'node',  \n",
    "                'style': {\n",
    "                    'background-color': '#222222', \n",
    "                    'color': 'white',            \n",
    "                    'label': 'data(label)',       \n",
    "                    'font-size': '16px',          \n",
    "                    'text-valign': 'center',     \n",
    "                    'text-halign': 'center'       \n",
    "                }\n",
    "            },\n",
    "            {\n",
    "                'selector': 'edge', \n",
    "                'style': {\n",
    "                    'width': 2, \n",
    "                    'target-arrow-shape': \"vee\", \n",
    "                    \"target-arrow-color\": \"#4a7cf2\",\n",
    "                    'arrow-scale': 2,\n",
    "                    'curve-style': allow_arrows\n",
    "                }\n",
    "            }\n",
    "        ]\n",
    "        elems = [] # éléments à afficher (formattés)\n",
    "        for node in self.adj:\n",
    "            elems.append({'data': {\"id\":node.name, \"label\":node.name}})\n",
    "        # add edges\n",
    "        for edge in self.edges:\n",
    "            elems.append({'data': {'source': edge.a, 'target': edge.b}})\n",
    "        app.layout = html.Div([\n",
    "            cyto.Cytoscape(\n",
    "                id='cytoscape'+unique,\n",
    "                elements=elems,\n",
    "                layout={'name': layoutname},\n",
    "                style=custom_layout,\n",
    "                stylesheet=styles\n",
    "            )\n",
    "        ])\n",
    "        print(\"également ouvert sur la page \\\"localhost:8050\\\"\")        \n",
    "        app.run_server(debug=True)\n"
   ]
  },
  {
   "cell_type": "code",
   "execution_count": 18,
   "metadata": {},
   "outputs": [
    {
     "name": "stdout",
     "output_type": "stream",
     "text": [
      "0\t | A [B, C, D, E, F, G, H, I, J]\n",
      "1\t | B [A, C, D, E, F, G, H, I, J, K, L, M, N, O, P, Q, R, S, T, U, V]\n",
      "2\t | C [A, B, D, E, F, G, H, I, J, K, L, M, N, O, P, Q, R, S, T, U]\n",
      "3\t | D [A, B, C, E, F, G, H, I, J, K, L, M, N, O, P, Q, R, S, T, U, V]\n",
      "4\t | E [A, B, C, D, F, G]\n",
      "5\t | F [A, B, C, D, E, G, H, I, J, K, L, M, N, O, P, Q, R, S, T]\n",
      "6\t | G [A, B, C, D, E]\n",
      "7\t | H [A, B, C, D, E, F, G, I, J, K, L, M, N, O, P, Q, R, S, T, U, V, W, X, Y, Z]\n",
      "8\t | I [A, B, C, D, E, F, G, H, J, K, L, M, N, O, P, Q, R, S, T, U, V]\n",
      "9\t | J [A, B, C, D, E]\n",
      "10\t | K [A, B, C, D, E, F, G, H, I, J, L, M, N, O, P, Q, R, S, T, U, V, W, X]\n",
      "11\t | L [A, B, C, D, E, F, G, H, I, J, K, M, N, O, P, Q, R]\n",
      "12\t | M [A, B, C, D, E, F, G, H, I, J, K, L, N, O, P, Q, R, S, T, U]\n",
      "13\t | N [A, B, C, D, E, F, G, H, I, J]\n",
      "14\t | O [A, B, C, D]\n",
      "15\t | P [A, B, C, D, E, F, G, H, I, J]\n",
      "16\t | Q [A, B]\n",
      "17\t | R [A, B, C, D, E, F, G, H, I, J, K, L, M, N, O, P, Q, S, T, U, V, W, X]\n",
      "18\t | S [A, B, C, D, E, F, G, H, I, J, K, L, M, N, O, P, Q, R, T, U, V, W, X, Y, Z]\n",
      "19\t | T [A, B, C, D, E, F]\n",
      "20\t | U [A, B, C, D, E, F, G, H, I, J, K, L, M, N, O, P, Q, R, S]\n",
      "21\t | V [A, B, C, D, E, F, G]\n",
      "22\t | W [A, B]\n",
      "23\t | X [A, B, C, D, E, F, G, H]\n",
      "24\t | Y [A, B, C, D, E, F, G, H, I, J, K, L, M, N, O, P, Q, R, S, T, U, V, W, X, Z]\n",
      "25\t | Z [A, B, C, D, E, F, G, H, I, J, K, L, M, N, O, P, Q, R, S, T, U, V, W]\n",
      "\n",
      "['AB w=89', 'AC w=332', 'AD w=244', 'AE w=339', 'AF w=78', 'AG w=303', 'AH w=184', 'AI w=228', 'AJ w=106', 'BA w=18', 'BC w=13', 'BD w=80', 'BE w=263', 'BF w=358', 'BG w=201', 'BH w=360', 'BI w=234', 'BJ w=72', 'BK w=138', 'BL w=381', 'BM w=340', 'BN w=87', 'BO w=298', 'BP w=96', 'BQ w=344', 'BR w=83', 'BS w=152', 'BT w=12', 'BU w=295', 'BV w=365', 'CA w=77', 'CB w=353', 'CD w=342', 'CE w=102', 'CF w=56', 'CG w=286', 'CH w=67', 'CI w=303', 'CJ w=369', 'CK w=111', 'CL w=178', 'CM w=335', 'CN w=95', 'CO w=30', 'CP w=264', 'CQ w=343', 'CR w=145', 'CS w=271', 'CT w=203', 'CU w=46', 'DA w=157', 'DB w=349', 'DC w=138', 'DE w=152', 'DF w=32', 'DG w=195', 'DH w=54', 'DI w=49', 'DJ w=367', 'DK w=390', 'DL w=237', 'DM w=198', 'DN w=388', 'DO w=148', 'DP w=153', 'DQ w=211', 'DR w=151', 'DS w=115', 'DT w=124', 'DU w=12', 'DV w=244', 'EA w=71', 'EB w=95', 'EC w=148', 'ED w=86', 'EF w=354', 'EG w=8', 'FA w=1', 'FB w=19', 'FC w=304', 'FD w=233', 'FE w=31', 'FG w=21', 'FH w=371', 'FI w=265', 'FJ w=211', 'FK w=238', 'FL w=175', 'FM w=367', 'FN w=48', 'FO w=297', 'FP w=161', 'FQ w=11', 'FR w=24', 'FS w=312', 'FT w=292', 'GA w=363', 'GB w=110', 'GC w=164', 'GD w=375', 'GE w=35', 'HA w=41', 'HB w=4', 'HC w=123', 'HD w=317', 'HE w=96', 'HF w=353', 'HG w=236', 'HI w=86', 'HJ w=90', 'HK w=152', 'HL w=229', 'HM w=82', 'HN w=224', 'HO w=246', 'HP w=308', 'HQ w=50', 'HR w=388', 'HS w=119', 'HT w=336', 'HU w=33', 'HV w=163', 'HW w=277', 'HX w=176', 'HY w=261', 'HZ w=398', 'IA w=139', 'IB w=214', 'IC w=27', 'ID w=88', 'IE w=217', 'IF w=286', 'IG w=109', 'IH w=10', 'IJ w=324', 'IK w=142', 'IL w=282', 'IM w=70', 'IN w=106', 'IO w=36', 'IP w=113', 'IQ w=269', 'IR w=349', 'IS w=89', 'IT w=92', 'IU w=241', 'IV w=281', 'JA w=287', 'JB w=87', 'JC w=385', 'JD w=265', 'JE w=134', 'KA w=376', 'KB w=373', 'KC w=212', 'KD w=160', 'KE w=321', 'KF w=260', 'KG w=113', 'KH w=224', 'KI w=113', 'KJ w=96', 'KL w=282', 'KM w=353', 'KN w=335', 'KO w=261', 'KP w=349', 'KQ w=55', 'KR w=400', 'KS w=112', 'KT w=51', 'KU w=167', 'KV w=332', 'KW w=159', 'KX w=162', 'LA w=325', 'LB w=166', 'LC w=145', 'LD w=137', 'LE w=255', 'LF w=52', 'LG w=52', 'LH w=68', 'LI w=345', 'LJ w=236', 'LK w=301', 'LM w=303', 'LN w=203', 'LO w=351', 'LP w=107', 'LQ w=369', 'LR w=275', 'MA w=41', 'MB w=214', 'MC w=267', 'MD w=281', 'ME w=201', 'MF w=386', 'MG w=83', 'MH w=71', 'MI w=19', 'MJ w=256', 'MK w=152', 'ML w=190', 'MN w=85', 'MO w=13', 'MP w=26', 'MQ w=261', 'MR w=295', 'MS w=212', 'MT w=181', 'MU w=193', 'NA w=222', 'NB w=32', 'NC w=370', 'ND w=126', 'NE w=310', 'NF w=372', 'NG w=306', 'NH w=212', 'NI w=125', 'NJ w=131', 'OA w=83', 'OB w=299', 'OC w=360', 'OD w=54', 'PA w=178', 'PB w=384', 'PC w=354', 'PD w=317', 'PE w=33', 'PF w=310', 'PG w=361', 'PH w=186', 'PI w=322', 'PJ w=99', 'QA w=303', 'QB w=98', 'RA w=74', 'RB w=68', 'RC w=30', 'RD w=369', 'RE w=4', 'RF w=56', 'RG w=13', 'RH w=10', 'RI w=376', 'RJ w=143', 'RK w=155', 'RL w=112', 'RM w=322', 'RN w=255', 'RO w=175', 'RP w=38', 'RQ w=206', 'RS w=65', 'RT w=155', 'RU w=13', 'RV w=157', 'RW w=231', 'RX w=326', 'SA w=124', 'SB w=85', 'SC w=20', 'SD w=44', 'SE w=111', 'SF w=273', 'SG w=198', 'SH w=379', 'SI w=23', 'SJ w=211', 'SK w=103', 'SL w=242', 'SM w=186', 'SN w=87', 'SO w=44', 'SP w=365', 'SQ w=226', 'SR w=14', 'ST w=73', 'SU w=310', 'SV w=367', 'SW w=62', 'SX w=386', 'SY w=198', 'SZ w=55', 'TA w=258', 'TB w=74', 'TC w=34', 'TD w=195', 'TE w=365', 'TF w=60', 'UA w=155', 'UB w=24', 'UC w=97', 'UD w=385', 'UE w=281', 'UF w=194', 'UG w=31', 'UH w=352', 'UI w=160', 'UJ w=177', 'UK w=1', 'UL w=184', 'UM w=258', 'UN w=207', 'UO w=15', 'UP w=171', 'UQ w=335', 'UR w=15', 'US w=8', 'VA w=333', 'VB w=136', 'VC w=231', 'VD w=333', 'VE w=286', 'VF w=233', 'VG w=241', 'WA w=214', 'WB w=194', 'XA w=330', 'XB w=212', 'XC w=226', 'XD w=244', 'XE w=383', 'XF w=324', 'XG w=363', 'XH w=192', 'YA w=107', 'YB w=154', 'YC w=9', 'YD w=43', 'YE w=201', 'YF w=354', 'YG w=259', 'YH w=258', 'YI w=239', 'YJ w=357', 'YK w=44', 'YL w=40', 'YM w=27', 'YN w=40', 'YO w=227', 'YP w=197', 'YQ w=65', 'YR w=47', 'YS w=285', 'YT w=237', 'YU w=158', 'YV w=55', 'YW w=191', 'YX w=293', 'YZ w=22', 'ZA w=306', 'ZB w=154', 'ZC w=68', 'ZD w=305', 'ZE w=309', 'ZF w=370', 'ZG w=15', 'ZH w=71', 'ZI w=146', 'ZJ w=51', 'ZK w=87', 'ZL w=38', 'ZM w=225', 'ZN w=312', 'ZO w=93', 'ZP w=273', 'ZQ w=65', 'ZR w=7', 'ZS w=371', 'ZT w=219', 'ZU w=252', 'ZV w=295', 'ZW w=237']\n",
      "['FA w=1', 'UK w=1', 'HB w=4', 'RE w=4', 'ZR w=7', 'EG w=8', 'US w=8', 'YC w=9', 'IH w=10', 'RH w=10', 'FQ w=11', 'BT w=12', 'DU w=12', 'BC w=13', 'MO w=13', 'RG w=13', 'RU w=13', 'SR w=14', 'UO w=15', 'UR w=15', 'ZG w=15', 'BA w=18', 'FB w=19', 'MI w=19', 'SC w=20', 'FG w=21', 'YZ w=22', 'SI w=23', 'FR w=24', 'UB w=24', 'MP w=26', 'IC w=27', 'YM w=27', 'CO w=30', 'RC w=30', 'FE w=31', 'UG w=31', 'DF w=32', 'NB w=32', 'HU w=33', 'PE w=33', 'TC w=34', 'GE w=35', 'IO w=36', 'RP w=38', 'ZL w=38', 'YL w=40', 'YN w=40', 'HA w=41', 'MA w=41', 'YD w=43', 'SD w=44', 'SO w=44', 'YK w=44', 'CU w=46', 'YR w=47', 'FN w=48', 'DI w=49', 'HQ w=50', 'KT w=51', 'ZJ w=51', 'LF w=52', 'LG w=52', 'DH w=54', 'OD w=54', 'KQ w=55', 'SZ w=55', 'YV w=55', 'CF w=56', 'RF w=56', 'TF w=60', 'SW w=62', 'RS w=65', 'YQ w=65', 'ZQ w=65', 'CH w=67', 'LH w=68', 'RB w=68', 'ZC w=68', 'IM w=70', 'EA w=71', 'MH w=71', 'ZH w=71', 'BJ w=72', 'ST w=73', 'RA w=74', 'TB w=74', 'CA w=77', 'AF w=78', 'BD w=80', 'HM w=82', 'BR w=83', 'MG w=83', 'OA w=83', 'MN w=85', 'SB w=85', 'ED w=86', 'HI w=86', 'BN w=87', 'JB w=87', 'SN w=87', 'ZK w=87', 'ID w=88', 'AB w=89', 'IS w=89', 'HJ w=90', 'IT w=92', 'ZO w=93', 'CN w=95', 'EB w=95', 'BP w=96', 'HE w=96', 'KJ w=96', 'UC w=97', 'QB w=98', 'PJ w=99', 'CE w=102', 'SK w=103', 'AJ w=106', 'IN w=106', 'LP w=107', 'YA w=107', 'IG w=109', 'GB w=110', 'CK w=111', 'SE w=111', 'KS w=112', 'RL w=112', 'IP w=113', 'KG w=113', 'KI w=113', 'DS w=115', 'HS w=119', 'HC w=123', 'DT w=124', 'SA w=124', 'NI w=125', 'ND w=126', 'NJ w=131', 'JE w=134', 'VB w=136', 'LD w=137', 'BK w=138', 'DC w=138', 'IA w=139', 'IK w=142', 'RJ w=143', 'CR w=145', 'LC w=145', 'ZI w=146', 'DO w=148', 'EC w=148', 'DR w=151', 'BS w=152', 'DE w=152', 'HK w=152', 'MK w=152', 'DP w=153', 'YB w=154', 'ZB w=154', 'RK w=155', 'RT w=155', 'UA w=155', 'DA w=157', 'RV w=157', 'YU w=158', 'KW w=159', 'KD w=160', 'UI w=160', 'FP w=161', 'KX w=162', 'HV w=163', 'GC w=164', 'LB w=166', 'KU w=167', 'UP w=171', 'FL w=175', 'RO w=175', 'HX w=176', 'UJ w=177', 'CL w=178', 'PA w=178', 'MT w=181', 'AH w=184', 'UL w=184', 'PH w=186', 'SM w=186', 'ML w=190', 'YW w=191', 'XH w=192', 'MU w=193', 'UF w=194', 'WB w=194', 'DG w=195', 'TD w=195', 'YP w=197', 'DM w=198', 'SG w=198', 'SY w=198', 'BG w=201', 'ME w=201', 'YE w=201', 'CT w=203', 'LN w=203', 'RQ w=206', 'UN w=207', 'DQ w=211', 'FJ w=211', 'SJ w=211', 'KC w=212', 'MS w=212', 'NH w=212', 'XB w=212', 'IB w=214', 'MB w=214', 'WA w=214', 'IE w=217', 'ZT w=219', 'NA w=222', 'HN w=224', 'KH w=224', 'ZM w=225', 'SQ w=226', 'XC w=226', 'YO w=227', 'AI w=228', 'HL w=229', 'RW w=231', 'VC w=231', 'FD w=233', 'VF w=233', 'BI w=234', 'HG w=236', 'LJ w=236', 'DL w=237', 'YT w=237', 'ZW w=237', 'FK w=238', 'YI w=239', 'IU w=241', 'VG w=241', 'SL w=242', 'AD w=244', 'DV w=244', 'XD w=244', 'HO w=246', 'ZU w=252', 'LE w=255', 'RN w=255', 'MJ w=256', 'TA w=258', 'UM w=258', 'YH w=258', 'YG w=259', 'KF w=260', 'HY w=261', 'KO w=261', 'MQ w=261', 'BE w=263', 'CP w=264', 'FI w=265', 'JD w=265', 'MC w=267', 'IQ w=269', 'CS w=271', 'SF w=273', 'ZP w=273', 'LR w=275', 'HW w=277', 'IV w=281', 'MD w=281', 'UE w=281', 'IL w=282', 'KL w=282', 'YS w=285', 'CG w=286', 'IF w=286', 'VE w=286', 'JA w=287', 'FT w=292', 'YX w=293', 'BU w=295', 'MR w=295', 'ZV w=295', 'FO w=297', 'BO w=298', 'OB w=299', 'LK w=301', 'AG w=303', 'CI w=303', 'LM w=303', 'QA w=303', 'FC w=304', 'ZD w=305', 'NG w=306', 'ZA w=306', 'HP w=308', 'ZE w=309', 'NE w=310', 'PF w=310', 'SU w=310', 'FS w=312', 'ZN w=312', 'HD w=317', 'PD w=317', 'KE w=321', 'PI w=322', 'RM w=322', 'IJ w=324', 'XF w=324', 'LA w=325', 'RX w=326', 'XA w=330', 'AC w=332', 'KV w=332', 'VA w=333', 'VD w=333', 'CM w=335', 'KN w=335', 'UQ w=335', 'HT w=336', 'AE w=339', 'BM w=340', 'CD w=342', 'CQ w=343', 'BQ w=344', 'LI w=345', 'DB w=349', 'IR w=349', 'KP w=349', 'LO w=351', 'UH w=352', 'CB w=353', 'HF w=353', 'KM w=353', 'EF w=354', 'PC w=354', 'YF w=354', 'YJ w=357', 'BF w=358', 'BH w=360', 'OC w=360', 'PG w=361', 'GA w=363', 'XG w=363', 'BV w=365', 'SP w=365', 'TE w=365', 'DJ w=367', 'FM w=367', 'SV w=367', 'CJ w=369', 'LQ w=369', 'RD w=369', 'NC w=370', 'ZF w=370', 'FH w=371', 'ZS w=371', 'NF w=372', 'KB w=373', 'GD w=375', 'KA w=376', 'RI w=376', 'SH w=379', 'BL w=381', 'XE w=383', 'PB w=384', 'JC w=385', 'UD w=385', 'MF w=386', 'SX w=386', 'DN w=388', 'HR w=388', 'DK w=390', 'HZ w=398', 'KR w=400']\n"
     ]
    }
   ],
   "source": [
    "# Tests :\n",
    "\n",
    "# tester l'efficacité des calculs avec les maths\n",
    "\n",
    "def generate_uncrossed():\n",
    "    \"\"\"génère un graphe non orienté sans boucles (sur un même noeud)\"\"\"\n",
    "    \n",
    "\n",
    "# fonction temporaire pour générer une liste de sommets aléatoire (avec edges aléatoire)\n",
    "# sans avoir de boucle sur le même noeud (paramètre v) exemple: 'v'->'v'\n",
    "tmpadata2 = lambda v : [Vertex(chr(i+65), randint(1,400)) for i in range(randint(1,26)) if i != v]\n",
    "data2 = [Node(Vertex(chr(j+65)), tmpadata2(j)) for j in range(26)]\n",
    "graphe2 = Graph(data2)\n",
    "\n",
    "print(graphe2)\n",
    "graphe2.show_edges()\n",
    "graphe2.sort_by_weight()\n",
    "graphe2.show_edges()\n",
    "\n"
   ]
  },
  {
   "cell_type": "code",
   "execution_count": 19,
   "metadata": {},
   "outputs": [
    {
     "name": "stdout",
     "output_type": "stream",
     "text": [
      "également ouvert sur la page \"localhost:8050\"\n"
     ]
    },
    {
     "data": {
      "text/html": [
       "\n",
       "        <iframe\n",
       "            width=\"100%\"\n",
       "            height=\"650\"\n",
       "            src=\"http://127.0.0.1:8050/\"\n",
       "            frameborder=\"0\"\n",
       "            allowfullscreen\n",
       "            \n",
       "        ></iframe>\n",
       "        "
      ],
      "text/plain": [
       "<IPython.lib.display.IFrame at 0x1258ea8b0>"
      ]
     },
     "metadata": {},
     "output_type": "display_data"
    }
   ],
   "source": [
    "# breadthfirst(default) grid circle concentric cose random preset\n",
    "graphe2.render(\"grid\")"
   ]
  },
  {
   "cell_type": "markdown",
   "metadata": {},
   "source": [
    "## saisie des données\n",
    "\n",
    "#### données fournies :\n",
    "\n",
    "> 1: 2(2), 3(1)<br>\n",
    "> 2: 1(2), 4(2), 5(3)<br>\n",
    "> 3: 1(1), 2(3), 4(2)<br>\n",
    "> 4: 2(2), 3(5), 5(2), 6(4)<br>\n",
    "> 5: 2(3), 4(2), 6(2)<br>\n",
    "> 6: 4(2), 5(2)<br>\n"
   ]
  },
  {
   "cell_type": "code",
   "execution_count": 20,
   "metadata": {},
   "outputs": [
    {
     "name": "stdout",
     "output_type": "stream",
     "text": [
      "[[False  True  True False False False]\n",
      " [ True False False  True  True False]\n",
      " [ True  True False  True False False]\n",
      " [False  True  True False  True  True]\n",
      " [False  True False  True False  True]\n",
      " [False False False  True  True False]]\n"
     ]
    }
   ],
   "source": [
    "# rappel format du noeud : \n",
    "# Noeud(nomActuel, [Vertex(\"nomLié1\", poid1),Vertex(\"nomLié2\", poid2),etc...])\n",
    "data = [\n",
    "    Node(Vertex(\"1\"),[Vertex(\"2\",2),Vertex(\"3\",1)]),\n",
    "    Node(Vertex(\"2\"),[Vertex(\"1\",2),Vertex(\"4\",2),Vertex(\"5\",3)]),\n",
    "    Node(Vertex(\"3\"),[Vertex(\"1\",1),Vertex(\"2\",3),Vertex(\"4\",2)]),\n",
    "    Node(Vertex(\"4\"),[Vertex(\"2\",2),Vertex(\"3\",5),Vertex(\"5\",2),Vertex(\"6\",4)]),\n",
    "    Node(Vertex(\"5\"),[Vertex(\"2\",3),Vertex(\"4\",2),Vertex(\"6\",2)]),\n",
    "    Node(Vertex(\"6\"),[Vertex(\"4\",2),Vertex(\"5\",2)])\n",
    "]\n",
    "graphe = Graph(data,\"exemple de graphe\")\n",
    "print(np.matrix(graphe.matrix))\n",
    "\n",
    "\n",
    "# on vérifie que tout est juste\n",
    "ok = [[False, True, True, False, False, False],\n",
    "      [True, False, False, True, True, False],\n",
    "      [True, True, False, True, False, False],\n",
    "      [False, True, True, False, True, True],\n",
    "      [False, True, False, True, False, True],\n",
    "      [False, False, False, True, True, False]]\n",
    "assert ok == graphe.matrix, \"une des valeurs n'est pas vraie\""
   ]
  },
  {
   "cell_type": "markdown",
   "metadata": {},
   "source": [
    "## Kruskal\n",
    "\n",
    "> init: arrêtes d'ordre ascendant de poids\n",
    "\n",
    "on peut utiliser `sort()` qui existe a la fois dans python et dans RStudio<br>\n",
    "> pour i=1...n-1 des sommets<br>\n",
    "> &emsp;prendre l'arrête de poids min qui ne fait pas une boucle<br>\n",
    "> &emsp;et qui n'est pas déja dans la liste des arrêtes que l'on a déja choisit<br>\n",
    "> fin"
   ]
  },
  {
   "cell_type": "code",
   "execution_count": 21,
   "metadata": {},
   "outputs": [
    {
     "ename": "SyntaxError",
     "evalue": "invalid syntax (1755835886.py, line 25)",
     "output_type": "error",
     "traceback": [
      "\u001b[0;36m  Cell \u001b[0;32mIn[21], line 25\u001b[0;36m\u001b[0m\n\u001b[0;31m    if(tmin[idx] != edge & ):\u001b[0m\n\u001b[0m                           ^\u001b[0m\n\u001b[0;31mSyntaxError\u001b[0m\u001b[0;31m:\u001b[0m invalid syntax\n"
     ]
    }
   ],
   "source": [
    "# on fait de l'héritage car on peut pas \n",
    "# rajouter la méthode kruskal comme en swift avec des extensions\n",
    "class GraphK(Graph):\n",
    "\n",
    "    # obligatoire (heritage)\n",
    "    def __init__(self, data, title = \"default\"):\n",
    "        super().__init__(data, title)\n",
    "\n",
    "    # obligatoire\n",
    "    def __init__(self, gr:Graph):\n",
    "        \"\"\"convertit un Graph normal en GraphK\"\"\"\n",
    "        super().__init__(gr.adj,gr.title)\n",
    "\n",
    "    def has_cycle(self, edges:list[Edge])->bool:\n",
    "        '''détecte s'il y a un cycle ou non en utilisant une liste d'arrètes'''\n",
    "        res : bool = False\n",
    "        # code\n",
    "        return res\n",
    "\n",
    "\n",
    "    def kruskal(self,red_tarjan_rule=False)->list[Edge]:\n",
    "        \"\"\"renvoie l'arbre couvrant de poids minimal\n",
    "        applique la règle rouge de tarjan si booléen est True (False par défaut)\"\"\"\n",
    "        # comme vue en cours\n",
    "        # trie les arrêtes de tout le graphe par poids croissants\n",
    "        self.sort_by_weight()\n",
    "        if(len(self.adj)<3):\n",
    "            raise Exception(f\"under minimum required data ({len(self.adj)} vertecies < 3)\")\n",
    "        # copie des éléments\n",
    "        tmp_edges = list(self.edges) \n",
    "        tmin = list(tmp_edges.pop(0))\n",
    "        carry = True # stopper la boucle\n",
    "        idx = 0\n",
    "        for edge in self.edges: # pour chaque arretes\n",
    "            # 1er arrete qui n'est pas dans tmin (forcément la min) et qui fait pas de cycle\n",
    "            while(carry and idx < len(tmin)): # parcours de tmin\n",
    "                if(tmin[idx] != edge and not self.has_cycle(tmin)):\n",
    "                    tmin.append(edge)\n",
    "                idx+=1\n",
    "            # reset\n",
    "            carry=True\n",
    "            idx = 0\n",
    "\n",
    "\n",
    "\n",
    "        "
   ]
  },
  {
   "cell_type": "code",
   "execution_count": 18,
   "metadata": {},
   "outputs": [
    {
     "ename": "NameError",
     "evalue": "name 'graphe' is not defined",
     "output_type": "error",
     "traceback": [
      "\u001b[0;31m---------------------------------------------------------------------------\u001b[0m",
      "\u001b[0;31mNameError\u001b[0m                                 Traceback (most recent call last)",
      "Cell \u001b[0;32mIn[18], line 2\u001b[0m\n\u001b[1;32m      1\u001b[0m \u001b[38;5;66;03m# vérification (données insérées a la main pour être sûr)\u001b[39;00m\n\u001b[0;32m----> 2\u001b[0m graphe \u001b[38;5;241m=\u001b[39m GraphK(\u001b[43mgraphe\u001b[49m) \u001b[38;5;66;03m# conversion\u001b[39;00m\n\u001b[1;32m      3\u001b[0m \u001b[38;5;28mprint\u001b[39m(graphe)\n\u001b[1;32m      4\u001b[0m \u001b[38;5;66;03m#graphe.sort_weight_ASC()\u001b[39;00m\n\u001b[1;32m      5\u001b[0m \u001b[38;5;66;03m#print(graphe)\u001b[39;00m\n",
      "\u001b[0;31mNameError\u001b[0m: name 'graphe' is not defined"
     ]
    }
   ],
   "source": [
    "# vérification (données insérées a la main pour être sûr)\n",
    "graphe = GraphK(graphe) # conversion\n",
    "print(graphe)\n",
    "#graphe.sort_weight_ASC()\n",
    "#print(graphe)"
   ]
  },
  {
   "cell_type": "markdown",
   "metadata": {},
   "source": [
    "methode kruskall en R : \n",
    "```R\n",
    "kruskal <- function(sommets,arretes,poids){\n",
    "    poids_ord <- sort(poids,index.return=true)\n",
    "    poids <- poids_ord$x\n",
    "    index_poids <- poids_ord$ix \n",
    "    return poids\n",
    "}\n",
    "```"
   ]
  },
  {
   "cell_type": "code",
   "execution_count": null,
   "metadata": {},
   "outputs": [],
   "source": []
  },
  {
   "cell_type": "code",
   "execution_count": null,
   "metadata": {},
   "outputs": [
    {
     "data": {
      "text/html": [
       "\n",
       "        <iframe\n",
       "            width=\"100%\"\n",
       "            height=\"650\"\n",
       "            src=\"http://127.0.0.1:8050/\"\n",
       "            frameborder=\"0\"\n",
       "            allowfullscreen\n",
       "            \n",
       "        ></iframe>\n",
       "        "
      ],
      "text/plain": [
       "<IPython.lib.display.IFrame at 0x12258aa50>"
      ]
     },
     "metadata": {},
     "output_type": "display_data"
    }
   ],
   "source": []
  },
  {
   "cell_type": "code",
   "execution_count": null,
   "metadata": {},
   "outputs": [],
   "source": []
  }
 ],
 "metadata": {
  "kernelspec": {
   "display_name": "Python 3",
   "language": "python",
   "name": "python3"
  },
  "language_info": {
   "codemirror_mode": {
    "name": "ipython",
    "version": 3
   },
   "file_extension": ".py",
   "mimetype": "text/x-python",
   "name": "python",
   "nbconvert_exporter": "python",
   "pygments_lexer": "ipython3",
   "version": "3.13.1"
  }
 },
 "nbformat": 4,
 "nbformat_minor": 2
}
