{
 "cells": [
  {
   "cell_type": "markdown",
   "metadata": {},
   "source": [
    "\n",
    "# TP 1 : Theorie des Graphes 1 \n",
    "#### L3 INFO NEC 2024 –2025\n",
    "#### Université de Pau et des Pays de l’Adour\n",
    "###### date: \"2024-12-18\""
   ]
  },
  {
   "cell_type": "markdown",
   "metadata": {},
   "source": [
    "### installer avec pip (sur la machine)\n",
    "\n",
    "c'est pareil avec Windows, Linux, Macos\n",
    "\n",
    "#### si vous avez la version python\n",
    "\n",
    "```sh\n",
    "pip install graphviz\n",
    "pip install networkx\n",
    "```\n",
    "\n",
    "#### si vous avez la version python3\n",
    "\n",
    "```sh\n",
    "pip3 install graphviz\n",
    "pip3 install networkx\n",
    "```\n",
    "\n",
    "#### installer pip :\n",
    "\n",
    "```sh\n",
    "python3 -m ensurepip --upgrade\n",
    "```\n",
    "enlever 3 dans python3 pour les version ultérieures<br>\n",
    "si problèmes voir : https://pip.pypa.io/en/stable/installation/\n",
    "\n"
   ]
  },
  {
   "cell_type": "code",
   "execution_count": 1,
   "metadata": {},
   "outputs": [],
   "source": [
    "# modules importants pour le(s) tp(s) :\n",
    "import networkx as nx # type: ignore # partie rendu graphique\n",
    "import graphviz as gz  # type: ignore\n",
    "from graphviz import Digraph # type: ignore\n",
    "\n",
    "# partie système\n",
    "from time import time, sleep\n",
    "import os, sys\n",
    "from random import randint\n",
    "\n",
    "# partie mathématique + structure\n",
    "import numpy as np # type: ignore\n",
    "from math import inf, sqrt, cos, sin, tan"
   ]
  },
  {
   "cell_type": "markdown",
   "metadata": {},
   "source": [
    "\n",
    "En premier, il faut définir les variables d'entrée: le graphe. <br>\n",
    "Ce graphe est donné par un vecteur des sommets, une matrice des arêtes, et un vecteur des poids. <br>\n",
    "\n",
    "Le graphe avec lequel on va tester notre code est simple: <br>\n",
    "On va avoir 6 sommets et ça c'est la liste de sommets adjacentes avec les poids : "
   ]
  },
  {
   "cell_type": "markdown",
   "metadata": {},
   "source": [
    "### on importe nos classes pour créer une structure de graphe"
   ]
  },
  {
   "cell_type": "code",
   "execution_count": 2,
   "metadata": {},
   "outputs": [],
   "source": [
    "class Vertex:\n",
    "    \"\"\"gère les sommets et ses arrêtes (sous forme d'autres sommets)\"\"\"\n",
    "\n",
    "    def __init__(self, name, weight=0):\n",
    "        \"\"\"name:le nom du sommet (vertex) associé au noeud\n",
    "        weight: le poids du sommet pour aller du noeud jusq'au sommet (par défaut=0)\n",
    "        (nom du noeud non représenté ici)\"\"\"\n",
    "        self.name = name\n",
    "        self.weight = weight # du sommet du noeud jusq'a ce sommet (ici)\n",
    "    \n",
    "    def __str__(self):\n",
    "        '''si on fait print(Vertex) le resultat du print est dans ce return'''\n",
    "        return self.name"
   ]
  },
  {
   "cell_type": "code",
   "execution_count": 12,
   "metadata": {},
   "outputs": [],
   "source": [
    "class Node:\n",
    "    \"\"\"\n",
    "    représente les noeuds entre des point dans un graphe\n",
    "    \n",
    "    on crée la classe qui s'occupe de tous les noeuds entre \n",
    "    les sommets (vertex/vertecies) et leurs autres sommets reliés\n",
    "    les arrêtes (edges) ne sont pas représentés car c'est la matrice d'adjacence qui s'occupe de ça\n",
    "    qui est situé dans la classe Graph\n",
    "    \"\"\"\n",
    "\n",
    "    def __init__(self, node_vertex:Vertex, vertecies:list[Vertex]):\n",
    "        self.name = node_vertex.name\n",
    "        self.weight = node_vertex.weight # si jamais on peut revenir vers le sommet lui même (boucle)\n",
    "        self.vertecies = vertecies\n",
    "\n",
    "    def __str__(self, print_weight=True):\n",
    "        '''si on affiche Node (print(Node)) renverra ce qui suit'''\n",
    "        res = f\"{self.name} [\"\n",
    "        v_size = len(self.vertecies)\n",
    "        for i, e in enumerate(self.vertecies):\n",
    "            res += f\"{e.name}\"\n",
    "            if(print_weight):\n",
    "                res += f\" w={e.weight}\"\n",
    "            if(i!=v_size-1):\n",
    "                if v_size>1:\n",
    "                    res += \",\" \n",
    "                res+=\" \"\n",
    "        res+=\"]\"\n",
    "        return res\n",
    "    \n",
    "    def _sort(self, vertecies_:list[Vertex])->list[Vertex]:\n",
    "        \"\"\"fonction privée a ne pas utiliser (en dehors de la classe)\n",
    "        algorithme reccursif pour les problèmes de pronfondeur et de performances\"\"\"\n",
    "        if len(vertecies_)<2 :\n",
    "            return vertecies_\n",
    "        else:\n",
    "            # elem du milieu\n",
    "            pivot = vertecies_[len(vertecies_)//2].weight\n",
    "            l, m, r = [],[],[] # mineurs, égal, majeurs \n",
    "            for v in vertecies_:\n",
    "                if(v.weight < pivot):\n",
    "                    l.append(v)\n",
    "                elif(v.weight == pivot):\n",
    "                    m.append(v) # si reccursion sur len(m) ce n'est jamais < 2, (boucle infini) dans certains cas\n",
    "                else: r.append(v)\n",
    "            return self._sort(l)+m+self._sort(r)\n",
    "        \n",
    "    def sort(self):\n",
    "        '''trie la liste des sommets (vetecies) par poids croissant (ASC)'''\n",
    "        # on utilise une fonction réccursive donc code separement\n",
    "        self.vertecies = self._sort(self.vertecies)\n",
    "\n",
    "\n"
   ]
  },
  {
   "cell_type": "code",
   "execution_count": 13,
   "metadata": {},
   "outputs": [],
   "source": [
    "\n",
    "class Graph:\n",
    "\n",
    "    def __init__(self, data:list[Node], title:str=\"default\"):\n",
    "        self.title = title # titre du graphique si utilisé\n",
    "        self.matrix = [] # matrice des liens entre les noeuds (Edges)\n",
    "        self.adj = data # matrice d'adjacence\n",
    "        self.weight = [[nod.name for nod in node.vertecies] for node in data] # poids des trajets\n",
    "        self.nodes = [node.name for node in data] # liste des noeuds (seulement les noms)\n",
    "        self.degree = 0 # pas encore calculé le degré du graphe\n",
    "\n",
    "    def __str__(self): # OK\n",
    "        \"\"\"si jamais on print un graph (print(Graph)) c'est executé ici\n",
    "        affiche le plus simplement avec des caractères le graph\"\"\"\n",
    "        res = \"\"\n",
    "        for i, node in enumerate(self.adj):\n",
    "            res += f\"{i}| {node.name} [\"\n",
    "            v_size = len(node.vertecies)\n",
    "            for j in range(v_size):\n",
    "                res += f\"{node.vertecies[j].name}\"\n",
    "                if(j!=v_size-1):\n",
    "                    if v_size>1:\n",
    "                        res += \",\" \n",
    "                    res+=\" \"\n",
    "            res += \"]\\n\"\n",
    "        return res\n",
    "    \n",
    "    def sort_weight_ASC(self): # OK\n",
    "        \"\"\"trie le graphe par poids croissants(asc)\n",
    "        on trie chaque arrêtes du graphe\n",
    "        \"\"\"\n",
    "        for node in self.adj:\n",
    "            node.vertecies.sort()\n",
    "    \n",
    "    def render(self):\n",
    "        \"\"\"effectue le rendu du graphe visuellement\"\"\"\n",
    "        graph = Digraph()\n",
    "        graph.nodes(self.nodes)\n",
    "        graph.edges(\n",
    "            [(self.adj[i].name, vertex.name) for i in range(len(self.adj))\n",
    "            for vertex in self.adj[i].vertecies]\n",
    "        )\n",
    "        graph.render(self.title, format='png', view=True)"
   ]
  },
  {
   "cell_type": "code",
   "execution_count": 14,
   "metadata": {},
   "outputs": [
    {
     "name": "stdout",
     "output_type": "stream",
     "text": [
      "A [B w=2, C w=1, D w=3, E w=7, F w=5]\n",
      "A [C w=1, B w=2, D w=3, F w=5, E w=7]\n"
     ]
    }
   ],
   "source": [
    "# test\n",
    "nodes = Node(Vertex(\"A\"), [\n",
    "        Vertex(\"B\", 2), \n",
    "        Vertex(\"C\", 1), \n",
    "        Vertex(\"D\", 3), \n",
    "        Vertex(\"E\", 7), \n",
    "        Vertex(\"F\", 5)\n",
    "    ]\n",
    ")\n",
    "print(nodes)\n",
    "nodes.sort()\n",
    "print(nodes)\n"
   ]
  },
  {
   "cell_type": "markdown",
   "metadata": {},
   "source": [
    "## saisie des données"
   ]
  },
  {
   "cell_type": "code",
   "execution_count": 111,
   "metadata": {},
   "outputs": [],
   "source": [
    "# rappel format du noeud : \n",
    "# Noeud(nomActuel, [Vertex(\"nomLié1\", poid1),Vertex(\"nomLié2\", poid2),etc...])\n",
    "data = [\n",
    "    Node(\"1\",[Vertex(\"2\",2),Vertex(\"3\",1)]),\n",
    "    Node(\"2\",[Vertex(\"1\",2),Vertex(\"4\",2),Vertex(\"5\",3)]),\n",
    "    Node(\"3\",[Vertex(\"1\",1),Vertex(\"2\",3),Vertex(\"4\",2)]),\n",
    "    Node(\"4\",[Vertex(\"2\",2),Vertex(\"3\",5),Vertex(\"5\",2),Vertex(\"6\",4)]),\n",
    "    Node(\"5\",[Vertex(\"2\",3),Vertex(\"4\",2),Vertex(\"6\",2)]),\n",
    "    Node(\"6\",[Vertex(\"4\",2),Vertex(\"5\",2)])\n",
    "]\n",
    "graphe = Graph(data,\"exemple de graphe\")"
   ]
  },
  {
   "cell_type": "markdown",
   "metadata": {},
   "source": [
    "## Kruskal\n",
    "\n",
    "> init: arrêtes d'ordre ascendant de poids\n",
    "\n",
    "on peut utiliser `sort()` qui existe a la fois dans python et dans RStudio<br>\n",
    "> pour i=1...n-1 des sommets<br>\n",
    "> prendre l'arrête de poids min qui ne fait pas une boucle<br>\n",
    "> fin"
   ]
  },
  {
   "cell_type": "code",
   "execution_count": 112,
   "metadata": {},
   "outputs": [
    {
     "name": "stdout",
     "output_type": "stream",
     "text": [
      "0| 1 [2, 3]\n",
      "1| 2 [1, 4, 5]\n",
      "2| 3 [1, 2, 4]\n",
      "3| 4 [2, 3, 5, 6]\n",
      "4| 5 [2, 4, 6]\n",
      "5| 6 [4, 5]\n",
      "\n"
     ]
    }
   ],
   "source": [
    "# test\n",
    "print(graphe)\n",
    "#graphe.sort_weight_ASC()\n",
    "#print(graphe)"
   ]
  },
  {
   "cell_type": "code",
   "execution_count": 57,
   "metadata": {},
   "outputs": [
    {
     "ename": "SyntaxError",
     "evalue": "invalid syntax (1399387592.py, line 1)",
     "output_type": "error",
     "traceback": [
      "\u001b[0;36m  Cell \u001b[0;32mIn[57], line 1\u001b[0;36m\u001b[0m\n\u001b[0;31m    kruskal <- function(sommets,arretes,poids){\u001b[0m\n\u001b[0m                                              ^\u001b[0m\n\u001b[0;31mSyntaxError\u001b[0m\u001b[0;31m:\u001b[0m invalid syntax\n"
     ]
    }
   ],
   "source": [
    "kruskal <- function(sommets,arretes,poids){\n",
    "    pooids_ord <- sort(poids,index.return=true)\n",
    "    poids <- poids_ord$x\n",
    "    index_poids <- poids_ord$ix \n",
    "    return poids\n",
    "}"
   ]
  },
  {
   "cell_type": "code",
   "execution_count": null,
   "metadata": {},
   "outputs": [],
   "source": []
  }
 ],
 "metadata": {
  "kernelspec": {
   "display_name": "Python 3",
   "language": "python",
   "name": "python3"
  },
  "language_info": {
   "codemirror_mode": {
    "name": "ipython",
    "version": 3
   },
   "file_extension": ".py",
   "mimetype": "text/x-python",
   "name": "python",
   "nbconvert_exporter": "python",
   "pygments_lexer": "ipython3",
   "version": "3.13.1"
  }
 },
 "nbformat": 4,
 "nbformat_minor": 2
}
