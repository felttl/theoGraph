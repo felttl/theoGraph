{
 "cells": [
  {
   "cell_type": "markdown",
   "metadata": {},
   "source": [
    "\n",
    "# TP 1 : Theorie des Graphes 1 \n",
    "#### L3 INFO NEC 2024–2025 <br> Université de Pau et des Pays de l’Adour\n",
    "###### date: \"2024-12-18\""
   ]
  },
  {
   "cell_type": "markdown",
   "metadata": {},
   "source": [
    "## prérequis"
   ]
  },
  {
   "cell_type": "markdown",
   "metadata": {},
   "source": [
    "### installer avec pip (sur la machine)\n",
    "\n",
    "c'est pareil avec Windows, Linux, Macos\n",
    "\n",
    "##### version de python :\n",
    "\n",
    ">si vous avez la version python ou python3 il suffit d'ajoute le 3 en fonction de votre version<br>\n",
    ">et heuresement python fonctionne avec pip et python3 fonctionne avec pip3 (normalement les versions<br>\n",
    ">actuelles installées sont pip3 avec python3, python n'est plus utilisé donc pip non plus)<br>\n",
    "\n",
    "#### installer dash_cytoscape avec 2 packages\n",
    "```sh\n",
    "pip3 install dash\n",
    "pip3 install dash-cytoscape\n",
    "```\n",
    "\n",
    "#### installer pip3 :\n",
    "\n",
    "```sh\n",
    "python3 -m ensurepip --upgrade\n",
    "```\n",
    "enlever 3 dans python3 pour les version ultérieures<br>\n",
    "si problèmes voir : https://pip.pypa.io/en/stable/installation/\n",
    "\n"
   ]
  },
  {
   "cell_type": "markdown",
   "metadata": {},
   "source": [
    "### importation dans le code"
   ]
  },
  {
   "cell_type": "code",
   "execution_count": 46,
   "metadata": {},
   "outputs": [],
   "source": [
    "# modules importants pour le(s) tp(s) :\n",
    "\n",
    "# visualisation des couleurs et autres... (partie graphique)\n",
    "from dash import Dash, html # type: ignore\n",
    "import dash_cytoscape as cyto # type: ignore\n",
    "\n",
    "# partie système\n",
    "from time import time, sleep\n",
    "import os, sys\n",
    "from random import randint\n",
    "\n",
    "# partie mathématique + structure\n",
    "import numpy as np # type: ignore\n",
    "from math import inf, sqrt, cos, sin, tan"
   ]
  },
  {
   "cell_type": "markdown",
   "metadata": {},
   "source": [
    "\n",
    "En premier, il faut définir les variables d'entrée: le graphe. <br>\n",
    "Ce graphe est donné par un vecteur des sommets, une matrice des arêtes, et un vecteur des poids. <br>\n",
    "\n",
    "Le graphe avec lequel on va tester notre code est simple: <br>\n",
    "On va avoir 6 sommets et ça c'est la liste de sommets adjacentes avec les poids : "
   ]
  },
  {
   "cell_type": "markdown",
   "metadata": {},
   "source": [
    "### on crée nos classes pour créer une structure de graphe"
   ]
  },
  {
   "cell_type": "code",
   "execution_count": 16,
   "metadata": {},
   "outputs": [],
   "source": [
    "class Vertex:\n",
    "    \"\"\"gère les sommets et ses arrêtes (sous forme d'autres sommets)\"\"\"\n",
    "\n",
    "    id = 0 # identifiant unique de tous les vertex dans les graphes\n",
    "    \n",
    "    def __init__(self, name, weight=0):\n",
    "        \"\"\"name:le nom du sommet (vertex) associé au noeud\n",
    "        weight: le poids du sommet pour aller du noeud jusq'au sommet (par défaut=0)\n",
    "        (nom du noeud non représenté ici)\"\"\"\n",
    "        self.name = name\n",
    "        self.weight = weight # du sommet du noeud jusq'a ce sommet (ici)\n",
    "        self.id = Vertex.id\n",
    "        Vertex.id += 1\n",
    "    \n",
    "    def __str__(self):\n",
    "        '''si on fait print(Vertex) le resultat du print est dans ce return'''\n",
    "        return self.name"
   ]
  },
  {
   "cell_type": "code",
   "execution_count": 17,
   "metadata": {},
   "outputs": [],
   "source": [
    "class Node:\n",
    "    \"\"\"\n",
    "    représente les noeuds entre des point dans un graphe\n",
    "    \n",
    "    on crée la classe qui s'occupe de tous les noeuds entre \n",
    "    les sommets (vertex/vertecies) et leurs autres sommets reliés\n",
    "    les arrêtes (edges) ne sont pas représentés car c'est la matrice d'adjacence qui s'occupe de ça\n",
    "    qui est situé dans la classe Graph\n",
    "    \"\"\"\n",
    "    id = 0 # identifiant unique de noeud auquel il appartient    \n",
    "\n",
    "    def __init__(self, node_vertex:Vertex, vertecies:list[Vertex]):\n",
    "        self.name = node_vertex.name\n",
    "        self.weight = node_vertex.weight # si jamais on peut revenir vers le sommet lui même (boucle)\n",
    "        self.vertecies = vertecies\n",
    "        self.degree = len(vertecies)\n",
    "        self.id = Node.id\n",
    "        Node.id += 1\n",
    "\n",
    "    def __str__(self, print_weight:bool=True):\n",
    "        '''si on affiche Node (print(Node)) renverra ce qui suit'''\n",
    "        res = f\"{self.name} [\"\n",
    "        v_size = len(self.vertecies)\n",
    "        for i, e in enumerate(self.vertecies):\n",
    "            res += f\"{e.name}\"\n",
    "            if(print_weight):\n",
    "                res += f\" w={e.weight}\"\n",
    "            if(i!=v_size-1):\n",
    "                if v_size>1:\n",
    "                    res += \",\" \n",
    "                res+=\" \"\n",
    "        res+=\"]\"\n",
    "        return res\n",
    "    \n",
    "    def _sort(self, vertecies_:list[Vertex])->list[Vertex]: # complexite≈O(n+log(5n))\n",
    "        \"\"\"fonction privée a ne pas utiliser (en dehors de la classe)\n",
    "        algorithme reccursif pour les problèmes de pronfondeur et de performances\"\"\"\n",
    "        if len(vertecies_)<2 :\n",
    "            return vertecies_\n",
    "        else:\n",
    "            # elem du milieu\n",
    "            pivot = vertecies_[len(vertecies_)//2].weight\n",
    "            l, m, r = [],[],[] # mineurs, égal, majeurs \n",
    "            for v in vertecies_:\n",
    "                if(v.weight < pivot): l.append(v)\n",
    "                    # si reccursion sur len(m) ce n'est jamais < 2\n",
    "                    # et donc (boucle infini) dans certains cas                \n",
    "                elif(v.weight == pivot): m.append(v) \n",
    "                else: r.append(v)\n",
    "            return self._sort(l)+m+self._sort(r)\n",
    "        \n",
    "    def sort_by_weight(self):\n",
    "        '''trie la liste des sommets (vetecies) par poids croissant (ASC)'''\n",
    "        # on utilise une fonction réccursive donc code separement\n",
    "        self.vertecies = self._sort(self.vertecies)\n",
    "        # futures versions : trier de manière reccursive sans faire de\n",
    "        # seconde fonction (_sort(...)) qui stock dans 3 tableaux temporaire\n",
    "        # la duplication des valeurs d'origine (pour + de performances)\n",
    "\n",
    "\n"
   ]
  },
  {
   "cell_type": "code",
   "execution_count": 43,
   "metadata": {},
   "outputs": [],
   "source": [
    "\n",
    "class Graph:\n",
    "\n",
    "    def __init__(self, data:list[Node], title:str=\"default\"):\n",
    "        self.title = title # titre du graphique si utilisé\n",
    "        self.adj = data # matrice d'adjacence\n",
    "        self.matrix = self.create_matrix() # matrice des liens entre les noeuds (Edges)\n",
    "        self.weight = [[nod.name for nod in node.vertecies] for node in data] # poids des trajets\n",
    "        self.nodes = [node.name for node in data] # liste des noeuds (seulement les noms)\n",
    "        self.degree = 0 # pas encore calculé le degré du graphe\n",
    "\n",
    "    def create_matrix(self):\n",
    "        \"\"\"créer la matrice d'ajdacence des points\n",
    "        (fonctionne avec les graphes orienté également)\n",
    "        \"\"\"\n",
    "        self.matrix=[]\n",
    "        for line, node in enumerate(self.adj):\n",
    "            self.matrix.append([])\n",
    "            for vertex in node.vertecies:\n",
    "                self.matrix[line].append(\n",
    "                    node.name == vertex.name\n",
    "                )\n",
    "\n",
    "\n",
    "    def __str__(self): # OK\n",
    "        \"\"\"si jamais on print un graph (print(Graph)) c'est executé ici\n",
    "        affiche le plus simplement avec des caractères le graph\"\"\"\n",
    "        res = \"\"\n",
    "        for i, node in enumerate(self.adj):\n",
    "            res += f\"{i}| {node.name} [\"\n",
    "            v_size = len(node.vertecies)\n",
    "            for j in range(v_size):\n",
    "                res += f\"{node.vertecies[j].name}\"\n",
    "                if(j!=v_size-1):\n",
    "                    if v_size>1:\n",
    "                        res += \",\" \n",
    "                    res+=\" \"\n",
    "            res += \"]\\n\"\n",
    "        return res\n",
    "    \n",
    "    def sort_by_weight(self): # OK\n",
    "        \"\"\"trie le graphe par poids croissants(asc)\n",
    "        on trie chaque arrêtes du graphe\n",
    "        \"\"\"\n",
    "        for node in self.adj:\n",
    "            node.vertecies.sort_by_weight()\n",
    "    \n",
    "    def render(self):\n",
    "        \"\"\"effectue le rendu du graphe visuellement\"\"\"\n",
    "        ..."
   ]
  },
  {
   "cell_type": "code",
   "execution_count": 44,
   "metadata": {},
   "outputs": [
    {
     "name": "stdout",
     "output_type": "stream",
     "text": [
      "A [B w=2, C w=1, D w=3, E w=7, F w=5]\n",
      "A [C w=1, B w=2, D w=3, F w=5, E w=7]\n"
     ]
    }
   ],
   "source": [
    "# test\n",
    "nodes = Node(Vertex(\"A\"), [\n",
    "        Vertex(\"B\", 2), \n",
    "        Vertex(\"C\", 1), \n",
    "        Vertex(\"D\", 3), \n",
    "        Vertex(\"E\", 7), \n",
    "        Vertex(\"F\", 5)\n",
    "    ]\n",
    ")\n",
    "print(nodes)\n",
    "nodes.sort_by_weight()\n",
    "print(nodes)\n"
   ]
  },
  {
   "cell_type": "markdown",
   "metadata": {},
   "source": [
    "## saisie des données\n",
    "\n",
    "#### données fournies :\n",
    "\n",
    "> 1: 2(2), 3(1)<br>\n",
    "> 2: 1(2), 4(2), 5(3)<br>\n",
    "> 3: 1(1), 2(3), 4(2)<br>\n",
    "> 4: 2(2), 3(5), 5(2), 6(4)<br>\n",
    "> 5: 2(3), 4(2), 6(2)<br>\n",
    "> 6: 4(2), 5(2)<br>\n"
   ]
  },
  {
   "cell_type": "code",
   "execution_count": 45,
   "metadata": {},
   "outputs": [
    {
     "name": "stdout",
     "output_type": "stream",
     "text": [
      "None\n"
     ]
    }
   ],
   "source": [
    "# rappel format du noeud : \n",
    "# Noeud(nomActuel, [Vertex(\"nomLié1\", poid1),Vertex(\"nomLié2\", poid2),etc...])\n",
    "data = [\n",
    "    Node(Vertex(\"1\"),[Vertex(\"2\",2),Vertex(\"3\",1)]),\n",
    "    Node(Vertex(\"2\"),[Vertex(\"1\",2),Vertex(\"4\",2),Vertex(\"5\",3)]),\n",
    "    Node(Vertex(\"3\"),[Vertex(\"1\",1),Vertex(\"2\",3),Vertex(\"4\",2)]),\n",
    "    Node(Vertex(\"4\"),[Vertex(\"2\",2),Vertex(\"3\",5),Vertex(\"5\",2),Vertex(\"6\",4)]),\n",
    "    Node(Vertex(\"5\"),[Vertex(\"2\",3),Vertex(\"4\",2),Vertex(\"6\",2)]),\n",
    "    Node(Vertex(\"6\"),[Vertex(\"4\",2),Vertex(\"5\",2)])\n",
    "]\n",
    "graphe = Graph(data,\"exemple de graphe\")\n",
    "print(graphe.matrix)"
   ]
  },
  {
   "cell_type": "markdown",
   "metadata": {},
   "source": [
    "## Kruskal\n",
    "\n",
    "> init: arrêtes d'ordre ascendant de poids\n",
    "\n",
    "on peut utiliser `sort()` qui existe a la fois dans python et dans RStudio<br>\n",
    "> pour i=1...n-1 des sommets<br>\n",
    "> prendre l'arrête de poids min qui ne fait pas une boucle<br>\n",
    "> fin"
   ]
  },
  {
   "cell_type": "code",
   "execution_count": 25,
   "metadata": {},
   "outputs": [],
   "source": [
    "# on fait de l'héritage car on peut pas \n",
    "# rajouter la méthode kruskal comme en swift avec des extensions\n",
    "class GraphK(Graph):\n",
    "\n",
    "    # obligatoire (heritage)\n",
    "    def __init__(self, data, title = \"default\"):\n",
    "        super().__init__(data, title)\n",
    "\n",
    "    # obligatoire\n",
    "    def __init__(self, gr:Graph):\n",
    "        \"\"\"convertit un Graph normal en GraphK\"\"\"\n",
    "        super().__init__(gr.adj,gr.title)\n",
    "    \n",
    "    def kruskal(self,red_tarjan_rule=False)->list[any]:\n",
    "        \"\"\"renvoie l'arbre couvrant de poids minimal\n",
    "        applique la ègle rouge de tarjan si booléen est True (False par défaut)\"\"\"\n",
    "        # comme vue en cours\n",
    "        self.sort_by_weight() # trie tout le graphe\n",
    "        tmin = []\n",
    "        carry = True # stopper la boucle\n",
    "        idx = 0\n",
    "        for node in self.adj: # pour chaque sommets (du noeud)\n",
    "            # 1er arrete qui n'est pas dans tmin\n",
    "            while(carry and idx < len(tmin)): # parcours de tmin\n",
    "                if(tmin[idx] not in [node.name+v for v in node.vertecies]):\n",
    "                    pass\n",
    "                idx+=1\n",
    "            # reset\n",
    "            carry=True\n",
    "            idx = 0\n",
    "\n",
    "            a = node.vertecies[0] \n",
    "\n",
    "\n",
    "        "
   ]
  },
  {
   "cell_type": "code",
   "execution_count": 41,
   "metadata": {},
   "outputs": [
    {
     "name": "stdout",
     "output_type": "stream",
     "text": [
      "0| 1 [2, 3]\n",
      "1| 2 [1, 4, 5]\n",
      "2| 3 [1, 2, 4]\n",
      "3| 4 [2, 3, 5, 6]\n",
      "4| 5 [2, 4, 6]\n",
      "5| 6 [4, 5]\n",
      "\n"
     ]
    }
   ],
   "source": [
    "# vérification (données insérées a la main pour être sûr)\n",
    "graphe = GraphK(graphe) # conversion\n",
    "print(graphe)\n",
    "#graphe.sort_weight_ASC()\n",
    "#print(graphe)"
   ]
  },
  {
   "cell_type": "markdown",
   "metadata": {},
   "source": [
    "methode kruskall en R : \n",
    "```R\n",
    "kruskal <- function(sommets,arretes,poids){\n",
    "    poids_ord <- sort(poids,index.return=true)\n",
    "    poids <- poids_ord$x\n",
    "    index_poids <- poids_ord$ix \n",
    "    return poids\n",
    "}\n",
    "```"
   ]
  },
  {
   "cell_type": "code",
   "execution_count": null,
   "metadata": {},
   "outputs": [],
   "source": []
  },
  {
   "cell_type": "code",
   "execution_count": null,
   "metadata": {},
   "outputs": [],
   "source": []
  }
 ],
 "metadata": {
  "kernelspec": {
   "display_name": "Python 3",
   "language": "python",
   "name": "python3"
  },
  "language_info": {
   "codemirror_mode": {
    "name": "ipython",
    "version": 3
   },
   "file_extension": ".py",
   "mimetype": "text/x-python",
   "name": "python",
   "nbconvert_exporter": "python",
   "pygments_lexer": "ipython3",
   "version": "3.13.1"
  }
 },
 "nbformat": 4,
 "nbformat_minor": 2
}
