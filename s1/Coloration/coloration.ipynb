{
 "cells": [
  {
   "cell_type": "markdown",
   "metadata": {},
   "source": [
    "# Couplage et Coloration"
   ]
  },
  {
   "cell_type": "markdown",
   "metadata": {},
   "source": [
    "rappel :\n",
    "\n",
    "- planaire : un peut dessiner le graphe sans que deux lignes ne se croisent"
   ]
  },
  {
   "cell_type": "code",
   "execution_count": 1,
   "metadata": {},
   "outputs": [],
   "source": [
    "# code\n"
   ]
  },
  {
   "cell_type": "markdown",
   "metadata": {},
   "source": [
    "### question\n",
    "1. Une assemblée est formée de personnes parlant plusieurs langues<br>\n",
    "différentes (voir la liste des données au dessus). On veut former des binômes de<br>\n",
    "personnes qui pourront dialoguer entre elles. Comment maximiser le<br>\n",
    "nombre de binômes ?"
   ]
  },
  {
   "cell_type": "code",
   "execution_count": 1,
   "metadata": {},
   "outputs": [],
   "source": [
    "# code"
   ]
  },
  {
   "cell_type": "markdown",
   "metadata": {},
   "source": [
    "2. Une enseignante essaie de former le plus de groupes de deux selon les<br>\n",
    "affinités des étudiants. Elle a dressé le tableau d’incompatibilités ci-après,<br>\n",
    "où une croix indique que deux personnes sont incompatibles. Combien de\n",
    "couples pourra-t-elle former au maximum?\n",
    "\n",
    "(problème inverse)"
   ]
  },
  {
   "cell_type": "markdown",
   "metadata": {},
   "source": [
    "### traitement"
   ]
  },
  {
   "cell_type": "markdown",
   "metadata": {},
   "source": [
    "vérification des résultats et conclusion"
   ]
  },
  {
   "cell_type": "markdown",
   "metadata": {},
   "source": [
    "code original (R) : \n",
    "\n",
    "```R\n",
    "sommets<-c(1,3,5,6,2,4)\n",
    "arretes<-matrix(c(1,3,1,2,6,2,5,4),nrow=2,ncol=4)\n",
    "coloration <- function(sommets,arets){\n",
    "  taille=length(sommets)\n",
    "  M<-matrix(rep(0,taille^2,taille,taille))\n",
    "  print(length(arets))  \n",
    "  for (i in 1:length(arets)/2){\n",
    "    M[arets[i,1],arets[i,2]]=1\n",
    "    M[arets[i,2],arets[i,1]]=1\n",
    "    M[i,i]=1\n",
    "  }\n",
    "  degres<-rowSums(M)\n",
    "  ordre_degres <- sort(degres,index.return=TRUE)\n",
    "  sommets<-sommeets[ordre_degres$ix]\n",
    "  i<-length(sommets)\n",
    "  sommet_choisi<-c(rep(0,i))\n",
    "  A = FALSE\n",
    "  while(A==FALSE){\n",
    "    new_color = c(rep(0),i)\n",
    "    if(sommet_choisi[i]==0){\n",
    "      sommet_choisi[i]=1\n",
    "      new_color[sommets[i]] = 1\n",
    "      a<-wich(M[sommets[i],]==0)\n",
    "      if(length(a)>0){\n",
    "        M[sommets[i],a[1]]=i\n",
    "      } else {\n",
    "        A=TRUE\n",
    "      }\n",
    "    }  \n",
    "  }\n",
    "}\n",
    "coloration(arretes,sommets)\n",
    "\n",
    "```"
   ]
  },
  {
   "cell_type": "code",
   "execution_count": null,
   "metadata": {},
   "outputs": [],
   "source": [
    "# pareil en python :\n",
    "def coloration(sommets,arretes):\n",
    "  M=[[0 for _ in range(len(arretes))] for _ in range(len(arretes))]\n",
    "  for i in range(1,len(arretes)//2):\n",
    "    M[arretes[i,1]][arretes[i,2]]=1\n",
    "    M[arretes[i,2]][arretes[i,1]]=1\n",
    "    M[i,i]=1 # on peut pas avoir la même coloration (zones avec les 0) donc on remplace\n",
    "  degres=[sum(a) for a in M]\n",
    "  ordre_degres = degres.sort()\n",
    "  sommets=sommets[ordre_degres$ix]\n",
    "  i=len(sommets)\n",
    "  sommet_choisi=[0 for _ in range(i)]\n",
    "  A = False\n",
    "  while(A==False):\n",
    "    new_color = [0 for _ in range(i)]\n",
    "    if(sommet_choisi[i]==0):\n",
    "      sommet_choisi[i]=1\n",
    "      new_color[sommets[i]] = 1\n",
    "      adj_comment<-M[sommet_choisi[i],]\n",
    "      # wich cherche l'index\n",
    "      M[sommet[i],wich(M[sommet[i],]==0)]=i\n",
    "\n",
    "  \n"
   ]
  },
  {
   "cell_type": "code",
   "execution_count": null,
   "metadata": {},
   "outputs": [],
   "source": []
  },
  {
   "cell_type": "code",
   "execution_count": null,
   "metadata": {},
   "outputs": [],
   "source": []
  },
  {
   "cell_type": "code",
   "execution_count": null,
   "metadata": {},
   "outputs": [],
   "source": []
  },
  {
   "cell_type": "code",
   "execution_count": null,
   "metadata": {},
   "outputs": [],
   "source": []
  }
 ],
 "metadata": {
  "kernelspec": {
   "display_name": "Python 3",
   "language": "python",
   "name": "python3"
  },
  "language_info": {
   "codemirror_mode": {
    "name": "ipython",
    "version": 3
   },
   "file_extension": ".py",
   "mimetype": "text/x-python",
   "name": "python",
   "nbconvert_exporter": "python",
   "pygments_lexer": "ipython3",
   "version": "3.13.1"
  }
 },
 "nbformat": 4,
 "nbformat_minor": 2
}
