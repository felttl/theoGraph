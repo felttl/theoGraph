{
 "cells": [
  {
   "cell_type": "markdown",
   "metadata": {},
   "source": [
    "# Couplage et Coloration"
   ]
  },
  {
   "cell_type": "markdown",
   "metadata": {},
   "source": [
    "rappel :\n",
    "\n",
    "- planaire : un peut dessiner le graphe sans que deux lignes ne se croisent"
   ]
  },
  {
   "cell_type": "code",
   "execution_count": 1,
   "metadata": {},
   "outputs": [],
   "source": [
    "# librairies a importer / installer avec pip ou pip3\n",
    "import networkx as nx  # type: ignore\n",
    "import graphviz as gz  # type: ignore\n",
    "from graphviz import Digraph  # type: ignore\n"
   ]
  },
  {
   "cell_type": "code",
   "execution_count": 2,
   "metadata": {},
   "outputs": [],
   "source": [
    "class Node:\n",
    "    \"\"\"représente les noeuds entre des point dans un graphe\n",
    "    on ne met pas les points pour pas gérer une grande quantité d'objet inutilement\"\"\"\n",
    "\n",
    "    def __init__(self, name:str, children:list[str]):\n",
    "        self.name = name\n",
    "        self.vertex = children\n",
    "\n",
    "class Graph:\n",
    "\n",
    "    def __init__(self, data:list[Node], title:str=\"default\"):\n",
    "        self.title = title\n",
    "        self.matrix = []\n",
    "        self.adj = data\n",
    "        self.nodes = [node.name for node in data]\n",
    "\n",
    "    def render(self):\n",
    "        \"\"\"effectue le rendu du graphe visuellement\"\"\"\n",
    "        graph = Digraph()\n",
    "        graph.nodes(self.nodes)\n",
    "        graph.edges([(self.adj[i], link) for i in range(len(self.adj)) for link in self.adj[i].vertex])\n",
    "        graph.render(self.title, format='png', view=True)\n"
   ]
  },
  {
   "cell_type": "code",
   "execution_count": 12,
   "metadata": {},
   "outputs": [
    {
     "ename": "AttributeError",
     "evalue": "'Digraph' object has no attribute 'nodes'",
     "output_type": "error",
     "traceback": [
      "\u001b[0;31m---------------------------------------------------------------------------\u001b[0m",
      "\u001b[0;31mAttributeError\u001b[0m                            Traceback (most recent call last)",
      "Cell \u001b[0;32mIn[12], line 17\u001b[0m\n\u001b[1;32m      2\u001b[0m data \u001b[38;5;241m=\u001b[39m [\n\u001b[1;32m      3\u001b[0m     Node(\u001b[38;5;124m\"\u001b[39m\u001b[38;5;124malfred\u001b[39m\u001b[38;5;124m\"\u001b[39m, [\u001b[38;5;124m\"\u001b[39m\u001b[38;5;124mchinois\u001b[39m\u001b[38;5;124m\"\u001b[39m, \u001b[38;5;124m\"\u001b[39m\u001b[38;5;124mfrancais\u001b[39m\u001b[38;5;124m\"\u001b[39m]),\n\u001b[1;32m      4\u001b[0m     Node(\u001b[38;5;124m\"\u001b[39m\u001b[38;5;124mbernard\u001b[39m\u001b[38;5;124m\"\u001b[39m, [\u001b[38;5;124m\"\u001b[39m\u001b[38;5;124mallemand\u001b[39m\u001b[38;5;124m\"\u001b[39m, \u001b[38;5;124m\"\u001b[39m\u001b[38;5;124mespagnol\u001b[39m\u001b[38;5;124m\"\u001b[39m]),\n\u001b[0;32m   (...)\u001b[0m\n\u001b[1;32m     14\u001b[0m     Node(\u001b[38;5;124m\"\u001b[39m\u001b[38;5;124mlouis\u001b[39m\u001b[38;5;124m\"\u001b[39m, [\u001b[38;5;124m\"\u001b[39m\u001b[38;5;124mrusse\u001b[39m\u001b[38;5;124m\"\u001b[39m])\n\u001b[1;32m     15\u001b[0m ]\n\u001b[1;32m     16\u001b[0m graph \u001b[38;5;241m=\u001b[39m Graph(data, \u001b[38;5;124m\"\u001b[39m\u001b[38;5;124massemblee de personnes\u001b[39m\u001b[38;5;124m\"\u001b[39m)\n\u001b[0;32m---> 17\u001b[0m \u001b[43mgraph\u001b[49m\u001b[38;5;241;43m.\u001b[39;49m\u001b[43mrender\u001b[49m\u001b[43m(\u001b[49m\u001b[43m)\u001b[49m\n",
      "Cell \u001b[0;32mIn[11], line 20\u001b[0m, in \u001b[0;36mGraph.render\u001b[0;34m(self)\u001b[0m\n\u001b[1;32m     18\u001b[0m \u001b[38;5;250m\u001b[39m\u001b[38;5;124;03m\"\"\"effectue le rendu du graphe visuellement\"\"\"\u001b[39;00m\n\u001b[1;32m     19\u001b[0m graph \u001b[38;5;241m=\u001b[39m Digraph()\n\u001b[0;32m---> 20\u001b[0m \u001b[43mgraph\u001b[49m\u001b[38;5;241;43m.\u001b[39;49m\u001b[43mnodes\u001b[49m(\u001b[38;5;28mself\u001b[39m\u001b[38;5;241m.\u001b[39mnodes)\n\u001b[1;32m     21\u001b[0m graph\u001b[38;5;241m.\u001b[39medges([(\u001b[38;5;28mself\u001b[39m\u001b[38;5;241m.\u001b[39madj[i], link) \u001b[38;5;28;01mfor\u001b[39;00m i \u001b[38;5;129;01min\u001b[39;00m \u001b[38;5;28mrange\u001b[39m(\u001b[38;5;28mlen\u001b[39m(\u001b[38;5;28mself\u001b[39m\u001b[38;5;241m.\u001b[39madj)) \u001b[38;5;28;01mfor\u001b[39;00m link \u001b[38;5;129;01min\u001b[39;00m \u001b[38;5;28mself\u001b[39m\u001b[38;5;241m.\u001b[39madj[i]\u001b[38;5;241m.\u001b[39mvertex])\n\u001b[1;32m     22\u001b[0m graph\u001b[38;5;241m.\u001b[39mrender(\u001b[38;5;28mself\u001b[39m\u001b[38;5;241m.\u001b[39mtitle, \u001b[38;5;28mformat\u001b[39m\u001b[38;5;241m=\u001b[39m\u001b[38;5;124m'\u001b[39m\u001b[38;5;124mpng\u001b[39m\u001b[38;5;124m'\u001b[39m, view\u001b[38;5;241m=\u001b[39m\u001b[38;5;28;01mTrue\u001b[39;00m)\n",
      "\u001b[0;31mAttributeError\u001b[0m: 'Digraph' object has no attribute 'nodes'"
     ]
    }
   ],
   "source": [
    "# saisie des données\n",
    "data = [\n",
    "    Node(\"alfred\", [\"chinois\", \"francais\"]),\n",
    "    Node(\"bernard\", [\"allemand\", \"espagnol\"]),\n",
    "    Node(\"claude\", [\"francais\", \"espagnol\"]),\n",
    "    Node(\"denis\", [\"allemand\"]),\n",
    "    Node(\"ernest\", [\"anglais\"]),\n",
    "    Node(\"fabien\", [\"anglais\", \"francais\", \"russe\"]),\n",
    "    Node(\"georges\", [\"anglais\", \"francais\"]),\n",
    "    Node(\"henri\", [\"arabe\", \"chinois\", \"espagnol\"]),\n",
    "    Node(\"isidore\", [\"francais\", \"russe\"]),\n",
    "    Node(\"joseph\", [\"anglais\", \"arabe\"]),\n",
    "    Node(\"kurt\", [\"allemand\", \"anglais\"]),\n",
    "    Node(\"louis\", [\"russe\"])\n",
    "]\n",
    "graph = Graph(data, \"assemblee de personnes\")\n",
    "graph.render()"
   ]
  },
  {
   "cell_type": "code",
   "execution_count": 22,
   "metadata": {},
   "outputs": [],
   "source": [
    "# help(Digraph)\n"
   ]
  },
  {
   "cell_type": "markdown",
   "metadata": {},
   "source": [
    "### question\n",
    "1. Une assemblée est formée de personnes parlant plusieurs langues<br>\n",
    "différentes (voir la liste des données au dessus). On veut former des binômes de<br>\n",
    "personnes qui pourront dialoguer entre elles. Comment maximiser le<br>\n",
    "nombre de binômes ?"
   ]
  },
  {
   "cell_type": "code",
   "execution_count": 1,
   "metadata": {},
   "outputs": [],
   "source": [
    "# code"
   ]
  },
  {
   "cell_type": "markdown",
   "metadata": {},
   "source": [
    "2. Une enseignante essaie de former le plus de groupes de deux selon les<br>\n",
    "affinités des étudiants. Elle a dressé le tableau d’incompatibilités ci-après,<br>\n",
    "où une croix indique que deux personnes sont incompatibles. Combien de\n",
    "couples pourra-t-elle former au maximum?\n",
    "\n",
    "(problème inverse)"
   ]
  },
  {
   "cell_type": "markdown",
   "metadata": {},
   "source": [
    "### traitement"
   ]
  },
  {
   "cell_type": "markdown",
   "metadata": {},
   "source": [
    "vérification des résultats et conclusion"
   ]
  },
  {
   "cell_type": "markdown",
   "metadata": {},
   "source": [
    "code original (R) : \n",
    "\n",
    "```R\n",
    "sommets<-c(1,3,5,6,2,4)\n",
    "arretes<-matrix(c(1,3,1,2,6,2,5,4),nrow=2,ncol=4)\n",
    "coloration <- function(sommets,arets){\n",
    "  taille=length(sommets)\n",
    "  M<-matrix(rep(0,taille^2,taille,taille))\n",
    "  print(length(arets))  \n",
    "  for (i in 1:length(arets)/2){\n",
    "    M[arets[i,1],arets[i,2]]=1\n",
    "    M[arets[i,2],arets[i,1]]=1\n",
    "    M[i,i]=1\n",
    "  }\n",
    "  degres<-rowSums(M)\n",
    "  ordre_degres <- sort(degres,index.return=TRUE)\n",
    "  sommets<-sommeets[ordre_degres$ix]\n",
    "  i<-length(sommets)\n",
    "  sommet_choisi<-c(rep(0,i))\n",
    "  A = FALSE\n",
    "  while(A==FALSE){\n",
    "    new_color = c(rep(0),i)\n",
    "    if(sommet_choisi[i]==0){\n",
    "      sommet_choisi[i]=1\n",
    "      new_color[sommets[i]] = 1\n",
    "      a<-wich(M[sommets[i],]==0)\n",
    "      if(length(a)>0){\n",
    "        M[sommets[i],a[1]]=i\n",
    "      } else {\n",
    "        A=TRUE\n",
    "      }\n",
    "    }  \n",
    "  }\n",
    "}\n",
    "coloration(arretes,sommets)\n",
    "\n",
    "```"
   ]
  },
  {
   "cell_type": "code",
   "execution_count": null,
   "metadata": {},
   "outputs": [],
   "source": [
    "# pareil en python :\n",
    "def coloration(sommets,arretes):\n",
    "  M=[[0 for _ in range(len(arretes))] for _ in range(len(arretes))]\n",
    "  for i in range(1,len(arretes)//2):\n",
    "    M[arretes[i,1]][arretes[i,2]]=1\n",
    "    M[arretes[i,2]][arretes[i,1]]=1\n",
    "    M[i,i]=1 # on peut pas avoir la même coloration (zones avec les 0) donc on remplace\n",
    "  degres=[sum(a) for a in M]\n",
    "  ordre_degres = degres.sort()\n",
    "  sommets=sommets[ordre_degres$ix]\n",
    "  i=len(sommets)\n",
    "  sommet_choisi=[0 for _ in range(i)]\n",
    "  A = False\n",
    "  while(A==False):\n",
    "    new_color = [0 for _ in range(i)]\n",
    "    if(sommet_choisi[i]==0):\n",
    "      sommet_choisi[i]=1\n",
    "      new_color[sommets[i]] = 1\n",
    "      adj_comment<-M[sommet_choisi[i],]\n",
    "      # wich cherche l'index\n",
    "      M[sommet[i],wich(M[sommet[i],]==0)]=i\n",
    "\n",
    "  \n"
   ]
  },
  {
   "cell_type": "code",
   "execution_count": null,
   "metadata": {},
   "outputs": [],
   "source": []
  },
  {
   "cell_type": "code",
   "execution_count": null,
   "metadata": {},
   "outputs": [],
   "source": []
  }
 ],
 "metadata": {
  "kernelspec": {
   "display_name": "Python 3",
   "language": "python",
   "name": "python3"
  },
  "language_info": {
   "codemirror_mode": {
    "name": "ipython",
    "version": 3
   },
   "file_extension": ".py",
   "mimetype": "text/x-python",
   "name": "python",
   "nbconvert_exporter": "python",
   "pygments_lexer": "ipython3",
   "version": "3.13.1"
  }
 },
 "nbformat": 4,
 "nbformat_minor": 2
}
